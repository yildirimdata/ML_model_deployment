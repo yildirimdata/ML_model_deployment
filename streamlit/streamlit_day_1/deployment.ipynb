{
 "cells": [
  {
   "cell_type": "code",
   "execution_count": 1,
   "metadata": {
    "executionInfo": {
     "elapsed": 1704,
     "status": "ok",
     "timestamp": 1606731504328,
     "user": {
      "displayName": "Richard C",
      "photoUrl": "",
      "userId": "08040814671867660929"
     },
     "user_tz": -180
    },
    "id": "sy5EcZ65lzy-"
   },
   "outputs": [],
   "source": [
    "import pandas as pd      \n",
    "import numpy as np \n",
    "from sklearn.metrics import mean_squared_error, mean_absolute_error, r2_score\n",
    "from sklearn.model_selection import train_test_split\n",
    "from sklearn.linear_model import LinearRegression\n",
    "import pickle"
   ]
  },
  {
   "cell_type": "code",
   "execution_count": 2,
   "metadata": {
    "executionInfo": {
     "elapsed": 825,
     "status": "ok",
     "timestamp": 1606731524112,
     "user": {
      "displayName": "Richard C",
      "photoUrl": "",
      "userId": "08040814671867660929"
     },
     "user_tz": -180
    },
    "id": "-AJL3lU-lzzA"
   },
   "outputs": [],
   "source": [
    "def eval_metrics(actual, pred):\n",
    "    rmse = np.sqrt(mean_squared_error(actual, pred))\n",
    "    mae = mean_absolute_error(actual, pred)\n",
    "    mse = mean_squared_error(actual, pred)\n",
    "    score = r2_score(actual, pred)\n",
    "    return print(\" r2_score:\", score, \"\\n\",\"mae:\", mae, \"\\n\",\"mse:\",mse, \"\\n\",\"rmse:\",rmse)"
   ]
  },
  {
   "cell_type": "code",
   "execution_count": 3,
   "metadata": {},
   "outputs": [
    {
     "data": {
      "text/html": [
       "<div>\n",
       "<style scoped>\n",
       "    .dataframe tbody tr th:only-of-type {\n",
       "        vertical-align: middle;\n",
       "    }\n",
       "\n",
       "    .dataframe tbody tr th {\n",
       "        vertical-align: top;\n",
       "    }\n",
       "\n",
       "    .dataframe thead th {\n",
       "        text-align: right;\n",
       "    }\n",
       "</style>\n",
       "<table border=\"1\" class=\"dataframe\">\n",
       "  <thead>\n",
       "    <tr style=\"text-align: right;\">\n",
       "      <th></th>\n",
       "      <th>TV</th>\n",
       "      <th>radio</th>\n",
       "      <th>newspaper</th>\n",
       "      <th>sales</th>\n",
       "    </tr>\n",
       "  </thead>\n",
       "  <tbody>\n",
       "    <tr>\n",
       "      <th>0</th>\n",
       "      <td>230.1</td>\n",
       "      <td>37.8</td>\n",
       "      <td>69.2</td>\n",
       "      <td>22.1</td>\n",
       "    </tr>\n",
       "    <tr>\n",
       "      <th>1</th>\n",
       "      <td>44.5</td>\n",
       "      <td>39.3</td>\n",
       "      <td>45.1</td>\n",
       "      <td>10.4</td>\n",
       "    </tr>\n",
       "    <tr>\n",
       "      <th>2</th>\n",
       "      <td>17.2</td>\n",
       "      <td>45.9</td>\n",
       "      <td>69.3</td>\n",
       "      <td>9.3</td>\n",
       "    </tr>\n",
       "    <tr>\n",
       "      <th>3</th>\n",
       "      <td>151.5</td>\n",
       "      <td>41.3</td>\n",
       "      <td>58.5</td>\n",
       "      <td>18.5</td>\n",
       "    </tr>\n",
       "    <tr>\n",
       "      <th>4</th>\n",
       "      <td>180.8</td>\n",
       "      <td>10.8</td>\n",
       "      <td>58.4</td>\n",
       "      <td>12.9</td>\n",
       "    </tr>\n",
       "  </tbody>\n",
       "</table>\n",
       "</div>"
      ],
      "text/plain": [
       "      TV  radio  newspaper  sales\n",
       "0  230.1   37.8       69.2   22.1\n",
       "1   44.5   39.3       45.1   10.4\n",
       "2   17.2   45.9       69.3    9.3\n",
       "3  151.5   41.3       58.5   18.5\n",
       "4  180.8   10.8       58.4   12.9"
      ]
     },
     "execution_count": 3,
     "metadata": {},
     "output_type": "execute_result"
    }
   ],
   "source": [
    "df = pd.read_csv(\"Advertising.csv\")\n",
    "df.head()"
   ]
  },
  {
   "cell_type": "code",
   "execution_count": 4,
   "metadata": {},
   "outputs": [
    {
     "name": "stdout",
     "output_type": "stream",
     "text": [
      "<class 'pandas.core.frame.DataFrame'>\n",
      "RangeIndex: 200 entries, 0 to 199\n",
      "Data columns (total 4 columns):\n",
      " #   Column     Non-Null Count  Dtype  \n",
      "---  ------     --------------  -----  \n",
      " 0   TV         200 non-null    float64\n",
      " 1   radio      200 non-null    float64\n",
      " 2   newspaper  200 non-null    float64\n",
      " 3   sales      200 non-null    float64\n",
      "dtypes: float64(4)\n",
      "memory usage: 6.4 KB\n"
     ]
    }
   ],
   "source": [
    "df.info()"
   ]
  },
  {
   "cell_type": "code",
   "execution_count": 5,
   "metadata": {
    "id": "ojUll31ZlzzD"
   },
   "outputs": [],
   "source": [
    "X= df.drop(\"sales\", axis=1)\n",
    "y= df[\"sales\"]\n",
    "X_train, X_test, y_train, y_test = train_test_split(X, y, test_size=0.3, random_state=42)\n",
    "model = LinearRegression()\n",
    "model.fit(X_train, y_train)\n",
    "filename = 'my_model'\n",
    "pickle.dump(model, open(filename, 'wb'))"
   ]
  },
  {
   "cell_type": "code",
   "execution_count": 6,
   "metadata": {},
   "outputs": [
    {
     "data": {
      "text/html": [
       "<div>\n",
       "<style scoped>\n",
       "    .dataframe tbody tr th:only-of-type {\n",
       "        vertical-align: middle;\n",
       "    }\n",
       "\n",
       "    .dataframe tbody tr th {\n",
       "        vertical-align: top;\n",
       "    }\n",
       "\n",
       "    .dataframe thead th {\n",
       "        text-align: right;\n",
       "    }\n",
       "</style>\n",
       "<table border=\"1\" class=\"dataframe\">\n",
       "  <thead>\n",
       "    <tr style=\"text-align: right;\">\n",
       "      <th></th>\n",
       "      <th>TV</th>\n",
       "      <th>radio</th>\n",
       "      <th>newspaper</th>\n",
       "      <th>sales</th>\n",
       "    </tr>\n",
       "  </thead>\n",
       "  <tbody>\n",
       "    <tr>\n",
       "      <th>count</th>\n",
       "      <td>200.000000</td>\n",
       "      <td>200.000000</td>\n",
       "      <td>200.000000</td>\n",
       "      <td>200.000000</td>\n",
       "    </tr>\n",
       "    <tr>\n",
       "      <th>mean</th>\n",
       "      <td>147.042500</td>\n",
       "      <td>23.264000</td>\n",
       "      <td>30.554000</td>\n",
       "      <td>14.022500</td>\n",
       "    </tr>\n",
       "    <tr>\n",
       "      <th>std</th>\n",
       "      <td>85.854236</td>\n",
       "      <td>14.846809</td>\n",
       "      <td>21.778621</td>\n",
       "      <td>5.217457</td>\n",
       "    </tr>\n",
       "    <tr>\n",
       "      <th>min</th>\n",
       "      <td>0.700000</td>\n",
       "      <td>0.000000</td>\n",
       "      <td>0.300000</td>\n",
       "      <td>1.600000</td>\n",
       "    </tr>\n",
       "    <tr>\n",
       "      <th>25%</th>\n",
       "      <td>74.375000</td>\n",
       "      <td>9.975000</td>\n",
       "      <td>12.750000</td>\n",
       "      <td>10.375000</td>\n",
       "    </tr>\n",
       "    <tr>\n",
       "      <th>50%</th>\n",
       "      <td>149.750000</td>\n",
       "      <td>22.900000</td>\n",
       "      <td>25.750000</td>\n",
       "      <td>12.900000</td>\n",
       "    </tr>\n",
       "    <tr>\n",
       "      <th>75%</th>\n",
       "      <td>218.825000</td>\n",
       "      <td>36.525000</td>\n",
       "      <td>45.100000</td>\n",
       "      <td>17.400000</td>\n",
       "    </tr>\n",
       "    <tr>\n",
       "      <th>max</th>\n",
       "      <td>296.400000</td>\n",
       "      <td>49.600000</td>\n",
       "      <td>114.000000</td>\n",
       "      <td>27.000000</td>\n",
       "    </tr>\n",
       "  </tbody>\n",
       "</table>\n",
       "</div>"
      ],
      "text/plain": [
       "               TV       radio   newspaper       sales\n",
       "count  200.000000  200.000000  200.000000  200.000000\n",
       "mean   147.042500   23.264000   30.554000   14.022500\n",
       "std     85.854236   14.846809   21.778621    5.217457\n",
       "min      0.700000    0.000000    0.300000    1.600000\n",
       "25%     74.375000    9.975000   12.750000   10.375000\n",
       "50%    149.750000   22.900000   25.750000   12.900000\n",
       "75%    218.825000   36.525000   45.100000   17.400000\n",
       "max    296.400000   49.600000  114.000000   27.000000"
      ]
     },
     "execution_count": 6,
     "metadata": {},
     "output_type": "execute_result"
    }
   ],
   "source": [
    "df.describe()"
   ]
  },
  {
   "cell_type": "code",
   "execution_count": 13,
   "metadata": {
    "id": "U7FTTc6XlzzE",
    "outputId": "d69eaee2-231f-4ba0-f8a2-0a03f0fd9ed9"
   },
   "outputs": [
    {
     "name": "stdout",
     "output_type": "stream",
     "text": [
      " r2_score: 0.8609466508230368 \n",
      " mae: 1.5116692224549084 \n",
      " mse: 3.7967972367152187 \n",
      " rmse: 1.9485372043446383\n"
     ]
    }
   ],
   "source": [
    "y_pred = model.predict(X_test)\n",
    "eval_metrics(y_test, y_pred)"
   ]
  },
  {
   "cell_type": "markdown",
   "metadata": {},
   "source": [
    "**deployment**"
   ]
  },
  {
   "cell_type": "code",
   "execution_count": 14,
   "metadata": {},
   "outputs": [],
   "source": [
    "final_model = pickle.load(open('my_model', 'rb'))"
   ]
  },
  {
   "cell_type": "code",
   "execution_count": 15,
   "metadata": {},
   "outputs": [
    {
     "data": {
      "text/plain": [
       "['TV', 'radio', 'newspaper']"
      ]
     },
     "execution_count": 15,
     "metadata": {},
     "output_type": "execute_result"
    }
   ],
   "source": [
    "columns=list(X.columns)\n",
    "columns"
   ]
  },
  {
   "cell_type": "code",
   "execution_count": 16,
   "metadata": {},
   "outputs": [],
   "source": [
    "my_dict = {\n",
    "    \"TV\": 150,\n",
    "    \"radio\": 25,\n",
    "    \"newspaper\": 30,\n",
    "}"
   ]
  },
  {
   "cell_type": "code",
   "execution_count": 17,
   "metadata": {},
   "outputs": [],
   "source": [
    "df = pd.DataFrame.from_dict([my_dict])"
   ]
  },
  {
   "cell_type": "code",
   "execution_count": 18,
   "metadata": {},
   "outputs": [
    {
     "data": {
      "text/html": [
       "<div>\n",
       "<style scoped>\n",
       "    .dataframe tbody tr th:only-of-type {\n",
       "        vertical-align: middle;\n",
       "    }\n",
       "\n",
       "    .dataframe tbody tr th {\n",
       "        vertical-align: top;\n",
       "    }\n",
       "\n",
       "    .dataframe thead th {\n",
       "        text-align: right;\n",
       "    }\n",
       "</style>\n",
       "<table border=\"1\" class=\"dataframe\">\n",
       "  <thead>\n",
       "    <tr style=\"text-align: right;\">\n",
       "      <th></th>\n",
       "      <th>TV</th>\n",
       "      <th>radio</th>\n",
       "      <th>newspaper</th>\n",
       "    </tr>\n",
       "  </thead>\n",
       "  <tbody>\n",
       "    <tr>\n",
       "      <th>0</th>\n",
       "      <td>150</td>\n",
       "      <td>25</td>\n",
       "      <td>30</td>\n",
       "    </tr>\n",
       "  </tbody>\n",
       "</table>\n",
       "</div>"
      ],
      "text/plain": [
       "    TV  radio  newspaper\n",
       "0  150     25         30"
      ]
     },
     "execution_count": 18,
     "metadata": {},
     "output_type": "execute_result"
    }
   ],
   "source": [
    "df"
   ]
  },
  {
   "cell_type": "code",
   "execution_count": 19,
   "metadata": {},
   "outputs": [
    {
     "name": "stdout",
     "output_type": "stream",
     "text": [
      "[14.50650223]\n"
     ]
    }
   ],
   "source": [
    "prediction = final_model.predict(df)\n",
    "print(prediction)"
   ]
  },
  {
   "cell_type": "code",
   "execution_count": 20,
   "metadata": {},
   "outputs": [
    {
     "name": "stdout",
     "output_type": "stream",
     "text": [
      "The estimated value of sales is 14. \n"
     ]
    }
   ],
   "source": [
    "print(\"The estimated value of sales is {}. \".format(int(prediction[0])))"
   ]
  },
  {
   "cell_type": "code",
   "execution_count": 2,
   "metadata": {},
   "outputs": [
    {
     "name": "stdout",
     "output_type": "stream",
     "text": [
      "# conda environments:\n",
      "#\n",
      "base                     /Users/kadiryildirim/opt/anaconda3\n",
      "eu13_test2            *  /Users/kadiryildirim/opt/anaconda3/envs/eu13_test2\n",
      "\n",
      "\n",
      "Note: you may need to restart the kernel to use updated packages.\n"
     ]
    }
   ],
   "source": [
    "conda env list"
   ]
  },
  {
   "cell_type": "code",
   "execution_count": 3,
   "metadata": {},
   "outputs": [
    {
     "name": "stdout",
     "output_type": "stream",
     "text": [
      "Package               Version\n",
      "--------------------- -----------\n",
      "altair                4.2.2\n",
      "anyio                 3.5.0\n",
      "argon2-cffi           21.3.0\n",
      "argon2-cffi-bindings  21.2.0\n",
      "asttokens             2.0.5\n",
      "attrs                 22.1.0\n",
      "backcall              0.2.0\n",
      "beautifulsoup4        4.12.2\n",
      "bleach                4.1.0\n",
      "blinker               1.6.2\n",
      "cachetools            5.3.0\n",
      "certifi               2022.12.7\n",
      "cffi                  1.15.1\n",
      "charset-normalizer    3.1.0\n",
      "click                 8.1.3\n",
      "colorama              0.4.6\n",
      "comm                  0.1.2\n",
      "debugpy               1.5.1\n",
      "decorator             5.1.1\n",
      "defusedxml            0.7.1\n",
      "entrypoints           0.4\n",
      "executing             0.8.3\n",
      "fastjsonschema        2.16.2\n",
      "gitdb                 4.0.10\n",
      "GitPython             3.1.31\n",
      "idna                  3.4\n",
      "importlib-metadata    6.0.0\n",
      "ipykernel             6.19.2\n",
      "ipython               8.12.0\n",
      "ipython-genutils      0.2.0\n",
      "jedi                  0.18.1\n",
      "Jinja2                3.1.2\n",
      "joblib                1.2.0\n",
      "jsonschema            4.17.3\n",
      "jupyter_client        8.1.0\n",
      "jupyter_core          5.3.0\n",
      "jupyter-server        1.23.4\n",
      "jupyterlab-pygments   0.1.2\n",
      "lxml                  4.9.2\n",
      "markdown-it-py        2.2.0\n",
      "MarkupSafe            2.1.1\n",
      "matplotlib-inline     0.1.6\n",
      "mdurl                 0.1.2\n",
      "mistune               0.8.4\n",
      "nb-conda-kernels      2.3.1\n",
      "nbclassic             0.5.5\n",
      "nbclient              0.5.13\n",
      "nbconvert             6.5.4\n",
      "nbformat              5.7.0\n",
      "nest-asyncio          1.5.6\n",
      "notebook              6.5.4\n",
      "notebook_shim         0.2.2\n",
      "numpy                 1.20.3\n",
      "packaging             23.0\n",
      "pandas                2.0.1\n",
      "pandocfilters         1.5.0\n",
      "parso                 0.8.3\n",
      "pickleshare           0.7.5\n",
      "Pillow                9.5.0\n",
      "pip                   23.0.1\n",
      "platformdirs          2.5.2\n",
      "prometheus-client     0.14.1\n",
      "prompt-toolkit        3.0.36\n",
      "protobuf              3.20.3\n",
      "psutil                5.9.0\n",
      "pure-eval             0.2.2\n",
      "pyarrow               11.0.0\n",
      "pyclustertend         1.7.1\n",
      "pycparser             2.21\n",
      "pydeck                0.8.1b0\n",
      "Pygments              2.15.1\n",
      "Pympler               1.0.1\n",
      "pyrsistent            0.18.0\n",
      "python-dateutil       2.8.2\n",
      "pytz                  2023.3\n",
      "pytz-deprecation-shim 0.1.0.post0\n",
      "pywin32               305.1\n",
      "pywinpty              2.0.10\n",
      "pyzmq                 25.0.2\n",
      "requests              2.29.0\n",
      "rich                  13.3.5\n",
      "scikit-learn          1.0.2\n",
      "scipy                 1.10.1\n",
      "semver                3.0.0\n",
      "Send2Trash            1.8.0\n",
      "setuptools            66.0.0\n",
      "six                   1.16.0\n",
      "smmap                 5.0.0\n",
      "sniffio               1.2.0\n",
      "soupsieve             2.4\n",
      "stack-data            0.2.0\n",
      "streamlit             1.10.0\n",
      "terminado             0.17.1\n",
      "threadpoolctl         3.1.0\n",
      "tinycss2              1.2.1\n",
      "toml                  0.10.2\n",
      "toolz                 0.12.0\n",
      "tornado               6.2\n",
      "traitlets             5.7.1\n",
      "typing_extensions     4.5.0\n",
      "tzdata                2023.3\n",
      "tzlocal               4.3\n",
      "urllib3               1.26.15\n",
      "validators            0.20.0\n",
      "watchdog              3.0.0\n",
      "wcwidth               0.2.5\n",
      "webencodings          0.5.1\n",
      "websocket-client      0.58.0\n",
      "wheel                 0.38.4\n",
      "zipp                  3.11.0\n",
      "Note: you may need to restart the kernel to use updated packages.\n"
     ]
    }
   ],
   "source": [
    "pip list"
   ]
  },
  {
   "cell_type": "code",
   "execution_count": 3,
   "metadata": {},
   "outputs": [
    {
     "name": "stdout",
     "output_type": "stream",
     "text": [
      "Collecting scikit-learn==1.0.2\n",
      "  Downloading scikit_learn-1.0.2-cp39-cp39-macosx_10_13_x86_64.whl (8.0 MB)\n",
      "\u001b[2K     \u001b[90m━━━━━━━━━━━━━━━━━━━━━━━━━━━━━━━━━━━━━━━━\u001b[0m \u001b[32m8.0/8.0 MB\u001b[0m \u001b[31m6.1 MB/s\u001b[0m eta \u001b[36m0:00:00\u001b[0m00:01\u001b[0m00:01\u001b[0m\n",
      "\u001b[?25hCollecting streamlit==1.10.0\n",
      "  Downloading streamlit-1.10.0-py2.py3-none-any.whl (9.1 MB)\n",
      "\u001b[2K     \u001b[90m━━━━━━━━━━━━━━━━━━━━━━━━━━━━━━━━━━━━━━━━\u001b[0m \u001b[32m9.1/9.1 MB\u001b[0m \u001b[31m6.7 MB/s\u001b[0m eta \u001b[36m0:00:00\u001b[0m00:01\u001b[0m00:01\u001b[0m\n",
      "\u001b[?25hCollecting scipy>=1.1.0\n",
      "  Downloading scipy-1.10.1-cp39-cp39-macosx_10_9_x86_64.whl (35.2 MB)\n",
      "\u001b[2K     \u001b[90m━━━━━━━━━━━━━━━━━━━━━━━━━━━━━━━━━━━━━━━━\u001b[0m \u001b[32m35.2/35.2 MB\u001b[0m \u001b[31m6.3 MB/s\u001b[0m eta \u001b[36m0:00:00\u001b[0m00:01\u001b[0m00:01\u001b[0m\n",
      "\u001b[?25hCollecting numpy>=1.14.6\n",
      "  Downloading numpy-1.24.3-cp39-cp39-macosx_10_9_x86_64.whl (19.8 MB)\n",
      "\u001b[2K     \u001b[90m━━━━━━━━━━━━━━━━━━━━━━━━━━━━━━━━━━━━━━━━\u001b[0m \u001b[32m19.8/19.8 MB\u001b[0m \u001b[31m6.4 MB/s\u001b[0m eta \u001b[36m0:00:00\u001b[0m00:01\u001b[0m00:01\u001b[0m\n",
      "\u001b[?25hCollecting joblib>=0.11\n",
      "  Downloading joblib-1.2.0-py3-none-any.whl (297 kB)\n",
      "\u001b[2K     \u001b[90m━━━━━━━━━━━━━━━━━━━━━━━━━━━━━━━━━━━━━━━\u001b[0m \u001b[32m298.0/298.0 kB\u001b[0m \u001b[31m6.4 MB/s\u001b[0m eta \u001b[36m0:00:00\u001b[0m00:01\u001b[0m\n",
      "\u001b[?25hCollecting threadpoolctl>=2.0.0\n",
      "  Using cached threadpoolctl-3.1.0-py3-none-any.whl (14 kB)\n",
      "Collecting click>=7.0\n",
      "  Using cached click-8.1.3-py3-none-any.whl (96 kB)\n",
      "Collecting protobuf<4,>=3.12\n",
      "  Using cached protobuf-3.20.3-cp39-cp39-macosx_10_9_x86_64.whl (982 kB)\n",
      "Collecting toml\n",
      "  Using cached toml-0.10.2-py2.py3-none-any.whl (16 kB)\n",
      "Collecting tzlocal\n",
      "  Using cached tzlocal-4.3-py3-none-any.whl (20 kB)\n",
      "Collecting pympler>=0.9\n",
      "  Using cached Pympler-1.0.1-py3-none-any.whl (164 kB)\n",
      "Collecting pydeck>=0.1.dev5\n",
      "  Using cached pydeck-0.8.1b0-py2.py3-none-any.whl (4.8 MB)\n",
      "Requirement already satisfied: importlib-metadata>=1.4 in /Users/kadiryildirim/opt/anaconda3/envs/eu13_test2/lib/python3.9/site-packages (from streamlit==1.10.0->-r requirements.txt (line 2)) (6.0.0)\n",
      "Collecting requests\n",
      "  Using cached requests-2.29.0-py3-none-any.whl (62 kB)\n",
      "Collecting pyarrow\n",
      "  Using cached pyarrow-11.0.0-cp39-cp39-macosx_10_14_x86_64.whl (24.5 MB)\n",
      "Collecting semver\n",
      "  Downloading semver-3.0.0-py3-none-any.whl (17 kB)\n",
      "Collecting validators\n",
      "  Using cached validators-0.20.0-py3-none-any.whl\n",
      "Requirement already satisfied: typing-extensions in /Users/kadiryildirim/opt/anaconda3/envs/eu13_test2/lib/python3.9/site-packages (from streamlit==1.10.0->-r requirements.txt (line 2)) (4.5.0)\n",
      "Collecting rich\n",
      "  Using cached rich-13.3.5-py3-none-any.whl (238 kB)\n",
      "Collecting cachetools>=4.0\n",
      "  Using cached cachetools-5.3.0-py3-none-any.whl (9.3 kB)\n",
      "Requirement already satisfied: packaging in /Users/kadiryildirim/opt/anaconda3/envs/eu13_test2/lib/python3.9/site-packages (from streamlit==1.10.0->-r requirements.txt (line 2)) (23.0)\n",
      "Collecting blinker\n",
      "  Using cached blinker-1.6.2-py3-none-any.whl (13 kB)\n",
      "Collecting pandas>=0.21.0\n",
      "  Downloading pandas-2.0.1-cp39-cp39-macosx_10_9_x86_64.whl (11.8 MB)\n",
      "\u001b[2K     \u001b[90m━━━━━━━━━━━━━━━━━━━━━━━━━━━━━━━━━━━━━━━━\u001b[0m \u001b[32m11.8/11.8 MB\u001b[0m \u001b[31m6.7 MB/s\u001b[0m eta \u001b[36m0:00:00\u001b[0m00:01\u001b[0m00:01\u001b[0m\n",
      "\u001b[?25hCollecting gitpython!=3.1.19\n",
      "  Using cached GitPython-3.1.31-py3-none-any.whl (184 kB)\n",
      "Collecting pillow>=6.2.0\n",
      "  Downloading Pillow-9.5.0-cp39-cp39-macosx_10_10_x86_64.whl (3.4 MB)\n",
      "\u001b[2K     \u001b[90m━━━━━━━━━━━━━━━━━━━━━━━━━━━━━━━━━━━━━━━━\u001b[0m \u001b[32m3.4/3.4 MB\u001b[0m \u001b[31m6.6 MB/s\u001b[0m eta \u001b[36m0:00:00\u001b[0m00:01\u001b[0m00:01\u001b[0m\n",
      "\u001b[?25hRequirement already satisfied: python-dateutil in /Users/kadiryildirim/opt/anaconda3/envs/eu13_test2/lib/python3.9/site-packages (from streamlit==1.10.0->-r requirements.txt (line 2)) (2.8.2)\n",
      "Requirement already satisfied: tornado>=5.0 in /Users/kadiryildirim/opt/anaconda3/envs/eu13_test2/lib/python3.9/site-packages (from streamlit==1.10.0->-r requirements.txt (line 2)) (6.2)\n",
      "Collecting altair>=3.2.0\n",
      "  Using cached altair-4.2.2-py3-none-any.whl (813 kB)\n",
      "Requirement already satisfied: attrs in /Users/kadiryildirim/opt/anaconda3/envs/eu13_test2/lib/python3.9/site-packages (from streamlit==1.10.0->-r requirements.txt (line 2)) (22.1.0)\n",
      "Requirement already satisfied: jsonschema>=3.0 in /Users/kadiryildirim/opt/anaconda3/envs/eu13_test2/lib/python3.9/site-packages (from altair>=3.2.0->streamlit==1.10.0->-r requirements.txt (line 2)) (4.17.3)\n",
      "Requirement already satisfied: jinja2 in /Users/kadiryildirim/opt/anaconda3/envs/eu13_test2/lib/python3.9/site-packages (from altair>=3.2.0->streamlit==1.10.0->-r requirements.txt (line 2)) (3.1.2)\n",
      "Collecting toolz\n",
      "  Using cached toolz-0.12.0-py3-none-any.whl (55 kB)\n",
      "Requirement already satisfied: entrypoints in /Users/kadiryildirim/opt/anaconda3/envs/eu13_test2/lib/python3.9/site-packages (from altair>=3.2.0->streamlit==1.10.0->-r requirements.txt (line 2)) (0.4)\n",
      "Collecting gitdb<5,>=4.0.1\n",
      "  Using cached gitdb-4.0.10-py3-none-any.whl (62 kB)\n",
      "Requirement already satisfied: zipp>=0.5 in /Users/kadiryildirim/opt/anaconda3/envs/eu13_test2/lib/python3.9/site-packages (from importlib-metadata>=1.4->streamlit==1.10.0->-r requirements.txt (line 2)) (3.11.0)\n",
      "Collecting pytz>=2020.1\n",
      "  Using cached pytz-2023.3-py2.py3-none-any.whl (502 kB)\n",
      "Collecting tzdata>=2022.1\n",
      "  Using cached tzdata-2023.3-py2.py3-none-any.whl (341 kB)\n",
      "Requirement already satisfied: six>=1.5 in /Users/kadiryildirim/opt/anaconda3/envs/eu13_test2/lib/python3.9/site-packages (from python-dateutil->streamlit==1.10.0->-r requirements.txt (line 2)) (1.16.0)\n",
      "Collecting urllib3<1.27,>=1.21.1\n",
      "  Using cached urllib3-1.26.15-py2.py3-none-any.whl (140 kB)\n",
      "Collecting charset-normalizer<4,>=2\n",
      "  Downloading charset_normalizer-3.1.0-cp39-cp39-macosx_10_9_x86_64.whl (124 kB)\n",
      "\u001b[2K     \u001b[90m━━━━━━━━━━━━━━━━━━━━━━━━━━━━━━━━━━━━━━━\u001b[0m \u001b[32m124.7/124.7 kB\u001b[0m \u001b[31m7.3 MB/s\u001b[0m eta \u001b[36m0:00:00\u001b[0m\n",
      "\u001b[?25hRequirement already satisfied: idna<4,>=2.5 in /Users/kadiryildirim/opt/anaconda3/envs/eu13_test2/lib/python3.9/site-packages (from requests->streamlit==1.10.0->-r requirements.txt (line 2)) (3.4)\n",
      "Collecting certifi>=2017.4.17\n",
      "  Using cached certifi-2022.12.7-py3-none-any.whl (155 kB)\n",
      "Collecting pygments<3.0.0,>=2.13.0\n",
      "  Using cached Pygments-2.15.1-py3-none-any.whl (1.1 MB)\n",
      "Collecting markdown-it-py<3.0.0,>=2.2.0\n",
      "  Using cached markdown_it_py-2.2.0-py3-none-any.whl (84 kB)\n",
      "Collecting pytz-deprecation-shim\n",
      "  Using cached pytz_deprecation_shim-0.1.0.post0-py2.py3-none-any.whl (15 kB)\n",
      "Requirement already satisfied: decorator>=3.4.0 in /Users/kadiryildirim/opt/anaconda3/envs/eu13_test2/lib/python3.9/site-packages (from validators->streamlit==1.10.0->-r requirements.txt (line 2)) (5.1.1)\n",
      "Collecting smmap<6,>=3.0.1\n",
      "  Using cached smmap-5.0.0-py3-none-any.whl (24 kB)\n",
      "Requirement already satisfied: MarkupSafe>=2.0 in /Users/kadiryildirim/opt/anaconda3/envs/eu13_test2/lib/python3.9/site-packages (from jinja2->altair>=3.2.0->streamlit==1.10.0->-r requirements.txt (line 2)) (2.1.1)\n",
      "Requirement already satisfied: pyrsistent!=0.17.0,!=0.17.1,!=0.17.2,>=0.14.0 in /Users/kadiryildirim/opt/anaconda3/envs/eu13_test2/lib/python3.9/site-packages (from jsonschema>=3.0->altair>=3.2.0->streamlit==1.10.0->-r requirements.txt (line 2)) (0.18.0)\n",
      "Collecting mdurl~=0.1\n",
      "  Using cached mdurl-0.1.2-py3-none-any.whl (10.0 kB)\n",
      "Installing collected packages: pytz, validators, urllib3, tzdata, toolz, toml, threadpoolctl, smmap, semver, pympler, pygments, protobuf, pillow, numpy, mdurl, joblib, click, charset-normalizer, certifi, cachetools, blinker, scipy, requests, pytz-deprecation-shim, pydeck, pyarrow, pandas, markdown-it-py, gitdb, tzlocal, scikit-learn, rich, gitpython, altair, streamlit\n",
      "  Attempting uninstall: pygments\n",
      "    Found existing installation: Pygments 2.11.2\n",
      "    Uninstalling Pygments-2.11.2:\n",
      "      Successfully uninstalled Pygments-2.11.2\n",
      "Successfully installed altair-4.2.2 blinker-1.6.2 cachetools-5.3.0 certifi-2022.12.7 charset-normalizer-3.1.0 click-8.1.3 gitdb-4.0.10 gitpython-3.1.31 joblib-1.2.0 markdown-it-py-2.2.0 mdurl-0.1.2 numpy-1.24.3 pandas-2.0.1 pillow-9.5.0 protobuf-3.20.3 pyarrow-11.0.0 pydeck-0.8.1b0 pygments-2.15.1 pympler-1.0.1 pytz-2023.3 pytz-deprecation-shim-0.1.0.post0 requests-2.29.0 rich-13.3.5 scikit-learn-1.0.2 scipy-1.10.1 semver-3.0.0 smmap-5.0.0 streamlit-1.10.0 threadpoolctl-3.1.0 toml-0.10.2 toolz-0.12.0 tzdata-2023.3 tzlocal-4.3 urllib3-1.26.15 validators-0.20.0\n"
     ]
    },
    {
     "name": "stdout",
     "output_type": "stream",
     "text": [
      "Note: you may need to restart the kernel to use updated packages.\n"
     ]
    }
   ],
   "source": [
    "pip install -r requirements.txt"
   ]
  },
  {
   "cell_type": "code",
   "execution_count": 5,
   "metadata": {},
   "outputs": [
    {
     "name": "stdout",
     "output_type": "stream",
     "text": [
      "Package               Version\n",
      "--------------------- -----------\n",
      "altair                4.2.2\n",
      "anyio                 3.5.0\n",
      "argon2-cffi           21.3.0\n",
      "argon2-cffi-bindings  21.2.0\n",
      "asttokens             2.0.5\n",
      "attrs                 22.1.0\n",
      "backcall              0.2.0\n",
      "beautifulsoup4        4.12.2\n",
      "bleach                4.1.0\n",
      "blinker               1.6.2\n",
      "cachetools            5.3.0\n",
      "certifi               2022.12.7\n",
      "cffi                  1.15.1\n",
      "charset-normalizer    3.1.0\n",
      "click                 8.1.3\n",
      "colorama              0.4.6\n",
      "comm                  0.1.2\n",
      "debugpy               1.5.1\n",
      "decorator             5.1.1\n",
      "defusedxml            0.7.1\n",
      "entrypoints           0.4\n",
      "executing             0.8.3\n",
      "fastjsonschema        2.16.2\n",
      "gitdb                 4.0.10\n",
      "GitPython             3.1.31\n",
      "idna                  3.4\n",
      "importlib-metadata    6.0.0\n",
      "ipykernel             6.19.2\n",
      "ipython               8.12.0\n",
      "ipython-genutils      0.2.0\n",
      "jedi                  0.18.1\n",
      "Jinja2                3.1.2\n",
      "joblib                1.2.0\n",
      "jsonschema            4.17.3\n",
      "jupyter_client        8.1.0\n",
      "jupyter_core          5.3.0\n",
      "jupyter-server        1.23.4\n",
      "jupyterlab-pygments   0.1.2\n",
      "lxml                  4.9.2\n",
      "markdown-it-py        2.2.0\n",
      "MarkupSafe            2.1.1\n",
      "matplotlib-inline     0.1.6\n",
      "mdurl                 0.1.2\n",
      "mistune               0.8.4\n",
      "nb-conda-kernels      2.3.1\n",
      "nbclassic             0.5.5\n",
      "nbclient              0.5.13\n",
      "nbconvert             6.5.4\n",
      "nbformat              5.7.0\n",
      "nest-asyncio          1.5.6\n",
      "notebook              6.5.4\n",
      "notebook_shim         0.2.2\n",
      "numpy                 1.20.3\n",
      "packaging             23.0\n",
      "pandas                2.0.1\n",
      "pandocfilters         1.5.0\n",
      "parso                 0.8.3\n",
      "pickleshare           0.7.5\n",
      "Pillow                9.5.0\n",
      "pip                   23.0.1\n",
      "platformdirs          2.5.2\n",
      "prometheus-client     0.14.1\n",
      "prompt-toolkit        3.0.36\n",
      "protobuf              3.20.3\n",
      "psutil                5.9.0\n",
      "pure-eval             0.2.2\n",
      "pyarrow               11.0.0\n",
      "pyclustertend         1.7.1\n",
      "pycparser             2.21\n",
      "pydeck                0.8.1b0\n",
      "Pygments              2.15.1\n",
      "Pympler               1.0.1\n",
      "pyrsistent            0.18.0\n",
      "python-dateutil       2.8.2\n",
      "pytz                  2023.3\n",
      "pytz-deprecation-shim 0.1.0.post0\n",
      "pywin32               305.1\n",
      "pywinpty              2.0.10\n",
      "pyzmq                 25.0.2\n",
      "requests              2.29.0\n",
      "rich                  13.3.5\n",
      "scikit-learn          1.0.2\n",
      "scipy                 1.10.1\n",
      "semver                3.0.0\n",
      "Send2Trash            1.8.0\n",
      "setuptools            66.0.0\n",
      "six                   1.16.0\n",
      "smmap                 5.0.0\n",
      "sniffio               1.2.0\n",
      "soupsieve             2.4\n",
      "stack-data            0.2.0\n",
      "streamlit             1.10.0\n",
      "terminado             0.17.1\n",
      "threadpoolctl         3.1.0\n",
      "tinycss2              1.2.1\n",
      "toml                  0.10.2\n",
      "toolz                 0.12.0\n",
      "tornado               6.2\n",
      "traitlets             5.7.1\n",
      "typing_extensions     4.5.0\n",
      "tzdata                2023.3\n",
      "tzlocal               4.3\n",
      "urllib3               1.26.15\n",
      "validators            0.20.0\n",
      "watchdog              3.0.0\n",
      "wcwidth               0.2.5\n",
      "webencodings          0.5.1\n",
      "websocket-client      0.58.0\n",
      "wheel                 0.38.4\n",
      "zipp                  3.11.0\n",
      "Note: you may need to restart the kernel to use updated packages.\n"
     ]
    }
   ],
   "source": [
    "pip list"
   ]
  },
  {
   "cell_type": "code",
   "execution_count": 6,
   "metadata": {},
   "outputs": [
    {
     "name": "stdout",
     "output_type": "stream",
     "text": [
      "^C\n"
     ]
    }
   ],
   "source": [
    "!streamlit run my_app.py"
   ]
  },
  {
   "cell_type": "code",
   "execution_count": null,
   "metadata": {},
   "outputs": [],
   "source": []
  }
 ],
 "metadata": {
  "colab": {
   "collapsed_sections": [],
   "name": "modeling_auto_scout.ipynb",
   "provenance": []
  },
  "interpreter": {
   "hash": "c0bb56354a4e9355a7d6dfafff752e037850e37f95314bb813d6fca6f4e76bce"
  },
  "kernelspec": {
   "display_name": "Python 3 (ipykernel)",
   "language": "python",
   "name": "python3"
  },
  "language_info": {
   "codemirror_mode": {
    "name": "ipython",
    "version": 3
   },
   "file_extension": ".py",
   "mimetype": "text/x-python",
   "name": "python",
   "nbconvert_exporter": "python",
   "pygments_lexer": "ipython3",
   "version": "3.9.16"
  }
 },
 "nbformat": 4,
 "nbformat_minor": 4
}
