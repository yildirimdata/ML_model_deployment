{
 "cells": [
  {
   "cell_type": "markdown",
   "id": "31ee91af",
   "metadata": {},
   "source": [
    "<a href=\"https://clarusway.com/contact-us/\"><img align=\"center\" src=\"https://i.ibb.co/B43qn24/officially-licensed-logo.png\" alt=\"Open in Clarusway LMS\" width=\"110\" height=\"200\" title=\"This notebook is licensed by Clarusway IT training school. Please contact the authorized persons about the conditions under which you can use or share.\"></a>"
   ]
  },
  {
   "cell_type": "markdown",
   "id": "d3dc7f40",
   "metadata": {},
   "source": [
    "# TRAINING AND MODEL/ENDPOINT CREATION FROM SAGEMAKER CONSOLE"
   ]
  },
  {
   "cell_type": "code",
   "execution_count": 1,
   "id": "18eb0e74",
   "metadata": {},
   "outputs": [],
   "source": [
    "import pandas as pd      \n",
    "import numpy as np \n",
    "from sklearn.metrics import mean_squared_error, mean_absolute_error, r2_score\n",
    "from sklearn.model_selection import train_test_split\n",
    "import warnings\n",
    "warnings.filterwarnings('ignore')"
   ]
  },
  {
   "cell_type": "code",
   "execution_count": 2,
   "id": "06fec7a0",
   "metadata": {},
   "outputs": [],
   "source": [
    "train_data = pd.read_csv(\"train_data.csv\")\n",
    "test_data = pd.read_csv(\"test_data.csv\")"
   ]
  },
  {
   "cell_type": "code",
   "execution_count": 3,
   "id": "7418b190",
   "metadata": {},
   "outputs": [
    {
     "data": {
      "text/plain": [
       "(12731, 6)"
      ]
     },
     "execution_count": 3,
     "metadata": {},
     "output_type": "execute_result"
    }
   ],
   "source": [
    "train_data.shape"
   ]
  },
  {
   "cell_type": "code",
   "execution_count": 4,
   "id": "722ba1be",
   "metadata": {},
   "outputs": [
    {
     "data": {
      "text/plain": [
       "(3183, 6)"
      ]
     },
     "execution_count": 4,
     "metadata": {},
     "output_type": "execute_result"
    }
   ],
   "source": [
    "test_data.shape"
   ]
  },
  {
   "cell_type": "code",
   "execution_count": 5,
   "id": "e08a2b85",
   "metadata": {},
   "outputs": [
    {
     "data": {
      "text/html": [
       "<div>\n",
       "<style scoped>\n",
       "    .dataframe tbody tr th:only-of-type {\n",
       "        vertical-align: middle;\n",
       "    }\n",
       "\n",
       "    .dataframe tbody tr th {\n",
       "        vertical-align: top;\n",
       "    }\n",
       "\n",
       "    .dataframe thead th {\n",
       "        text-align: right;\n",
       "    }\n",
       "</style>\n",
       "<table border=\"1\" class=\"dataframe\">\n",
       "  <thead>\n",
       "    <tr style=\"text-align: right;\">\n",
       "      <th></th>\n",
       "      <th>price</th>\n",
       "      <th>age</th>\n",
       "      <th>hp_kW</th>\n",
       "      <th>km</th>\n",
       "      <th>Gearing_Type</th>\n",
       "      <th>make_model</th>\n",
       "    </tr>\n",
       "  </thead>\n",
       "  <tbody>\n",
       "    <tr>\n",
       "      <th>0</th>\n",
       "      <td>26379</td>\n",
       "      <td>0.0</td>\n",
       "      <td>100.0</td>\n",
       "      <td>5900.0</td>\n",
       "      <td>Manual</td>\n",
       "      <td>Opel Insignia</td>\n",
       "    </tr>\n",
       "    <tr>\n",
       "      <th>1</th>\n",
       "      <td>18990</td>\n",
       "      <td>0.0</td>\n",
       "      <td>66.0</td>\n",
       "      <td>1900.0</td>\n",
       "      <td>Manual</td>\n",
       "      <td>Opel Astra</td>\n",
       "    </tr>\n",
       "    <tr>\n",
       "      <th>2</th>\n",
       "      <td>12480</td>\n",
       "      <td>2.0</td>\n",
       "      <td>81.0</td>\n",
       "      <td>39792.0</td>\n",
       "      <td>Manual</td>\n",
       "      <td>Opel Astra</td>\n",
       "    </tr>\n",
       "    <tr>\n",
       "      <th>3</th>\n",
       "      <td>34490</td>\n",
       "      <td>0.0</td>\n",
       "      <td>154.0</td>\n",
       "      <td>10.0</td>\n",
       "      <td>Automatic</td>\n",
       "      <td>Opel Insignia</td>\n",
       "    </tr>\n",
       "    <tr>\n",
       "      <th>4</th>\n",
       "      <td>15888</td>\n",
       "      <td>2.0</td>\n",
       "      <td>60.0</td>\n",
       "      <td>11903.0</td>\n",
       "      <td>Manual</td>\n",
       "      <td>Audi A1</td>\n",
       "    </tr>\n",
       "  </tbody>\n",
       "</table>\n",
       "</div>"
      ],
      "text/plain": [
       "   price  age  hp_kW       km Gearing_Type     make_model\n",
       "0  26379  0.0  100.0   5900.0       Manual  Opel Insignia\n",
       "1  18990  0.0   66.0   1900.0       Manual     Opel Astra\n",
       "2  12480  2.0   81.0  39792.0       Manual     Opel Astra\n",
       "3  34490  0.0  154.0     10.0    Automatic  Opel Insignia\n",
       "4  15888  2.0   60.0  11903.0       Manual        Audi A1"
      ]
     },
     "execution_count": 5,
     "metadata": {},
     "output_type": "execute_result"
    }
   ],
   "source": [
    "train_data.head()"
   ]
  },
  {
   "cell_type": "code",
   "execution_count": 6,
   "id": "1adbb683",
   "metadata": {},
   "outputs": [
    {
     "data": {
      "text/html": [
       "<div>\n",
       "<style scoped>\n",
       "    .dataframe tbody tr th:only-of-type {\n",
       "        vertical-align: middle;\n",
       "    }\n",
       "\n",
       "    .dataframe tbody tr th {\n",
       "        vertical-align: top;\n",
       "    }\n",
       "\n",
       "    .dataframe thead th {\n",
       "        text-align: right;\n",
       "    }\n",
       "</style>\n",
       "<table border=\"1\" class=\"dataframe\">\n",
       "  <thead>\n",
       "    <tr style=\"text-align: right;\">\n",
       "      <th></th>\n",
       "      <th>price</th>\n",
       "      <th>age</th>\n",
       "      <th>hp_kW</th>\n",
       "      <th>km</th>\n",
       "      <th>Gearing_Type</th>\n",
       "      <th>make_model</th>\n",
       "    </tr>\n",
       "  </thead>\n",
       "  <tbody>\n",
       "    <tr>\n",
       "      <th>0</th>\n",
       "      <td>14500</td>\n",
       "      <td>2.0</td>\n",
       "      <td>141.0</td>\n",
       "      <td>80000.0</td>\n",
       "      <td>Automatic</td>\n",
       "      <td>Audi A1</td>\n",
       "    </tr>\n",
       "    <tr>\n",
       "      <th>1</th>\n",
       "      <td>16790</td>\n",
       "      <td>3.0</td>\n",
       "      <td>66.0</td>\n",
       "      <td>16200.0</td>\n",
       "      <td>Automatic</td>\n",
       "      <td>Audi A1</td>\n",
       "    </tr>\n",
       "    <tr>\n",
       "      <th>2</th>\n",
       "      <td>15090</td>\n",
       "      <td>3.0</td>\n",
       "      <td>85.0</td>\n",
       "      <td>63668.0</td>\n",
       "      <td>Automatic</td>\n",
       "      <td>Audi A1</td>\n",
       "    </tr>\n",
       "    <tr>\n",
       "      <th>3</th>\n",
       "      <td>17990</td>\n",
       "      <td>2.0</td>\n",
       "      <td>70.0</td>\n",
       "      <td>16103.0</td>\n",
       "      <td>Automatic</td>\n",
       "      <td>Audi A1</td>\n",
       "    </tr>\n",
       "    <tr>\n",
       "      <th>4</th>\n",
       "      <td>17990</td>\n",
       "      <td>3.0</td>\n",
       "      <td>92.0</td>\n",
       "      <td>26415.0</td>\n",
       "      <td>Automatic</td>\n",
       "      <td>Audi A1</td>\n",
       "    </tr>\n",
       "  </tbody>\n",
       "</table>\n",
       "</div>"
      ],
      "text/plain": [
       "   price  age  hp_kW       km Gearing_Type make_model\n",
       "0  14500  2.0  141.0  80000.0    Automatic    Audi A1\n",
       "1  16790  3.0   66.0  16200.0    Automatic    Audi A1\n",
       "2  15090  3.0   85.0  63668.0    Automatic    Audi A1\n",
       "3  17990  2.0   70.0  16103.0    Automatic    Audi A1\n",
       "4  17990  3.0   92.0  26415.0    Automatic    Audi A1"
      ]
     },
     "execution_count": 6,
     "metadata": {},
     "output_type": "execute_result"
    }
   ],
   "source": [
    "test_data.head()"
   ]
  },
  {
   "cell_type": "code",
   "execution_count": 7,
   "id": "f3e183ca",
   "metadata": {},
   "outputs": [
    {
     "data": {
      "text/html": [
       "<div>\n",
       "<style scoped>\n",
       "    .dataframe tbody tr th:only-of-type {\n",
       "        vertical-align: middle;\n",
       "    }\n",
       "\n",
       "    .dataframe tbody tr th {\n",
       "        vertical-align: top;\n",
       "    }\n",
       "\n",
       "    .dataframe thead th {\n",
       "        text-align: right;\n",
       "    }\n",
       "</style>\n",
       "<table border=\"1\" class=\"dataframe\">\n",
       "  <thead>\n",
       "    <tr style=\"text-align: right;\">\n",
       "      <th></th>\n",
       "      <th>price</th>\n",
       "      <th>age</th>\n",
       "      <th>hp_kW</th>\n",
       "      <th>km</th>\n",
       "    </tr>\n",
       "  </thead>\n",
       "  <tbody>\n",
       "    <tr>\n",
       "      <th>count</th>\n",
       "      <td>12731.000000</td>\n",
       "      <td>12731.000000</td>\n",
       "      <td>12731.000000</td>\n",
       "      <td>12731.000000</td>\n",
       "    </tr>\n",
       "    <tr>\n",
       "      <th>mean</th>\n",
       "      <td>17996.286702</td>\n",
       "      <td>1.387244</td>\n",
       "      <td>88.382374</td>\n",
       "      <td>32002.454174</td>\n",
       "    </tr>\n",
       "    <tr>\n",
       "      <th>std</th>\n",
       "      <td>7349.138624</td>\n",
       "      <td>1.121765</td>\n",
       "      <td>26.693078</td>\n",
       "      <td>37081.360187</td>\n",
       "    </tr>\n",
       "    <tr>\n",
       "      <th>min</th>\n",
       "      <td>4950.000000</td>\n",
       "      <td>0.000000</td>\n",
       "      <td>40.000000</td>\n",
       "      <td>0.000000</td>\n",
       "    </tr>\n",
       "    <tr>\n",
       "      <th>25%</th>\n",
       "      <td>12850.000000</td>\n",
       "      <td>0.000000</td>\n",
       "      <td>66.000000</td>\n",
       "      <td>1699.500000</td>\n",
       "    </tr>\n",
       "    <tr>\n",
       "      <th>50%</th>\n",
       "      <td>16890.000000</td>\n",
       "      <td>1.000000</td>\n",
       "      <td>85.000000</td>\n",
       "      <td>20321.000000</td>\n",
       "    </tr>\n",
       "    <tr>\n",
       "      <th>75%</th>\n",
       "      <td>21910.000000</td>\n",
       "      <td>2.000000</td>\n",
       "      <td>101.000000</td>\n",
       "      <td>46375.000000</td>\n",
       "    </tr>\n",
       "    <tr>\n",
       "      <th>max</th>\n",
       "      <td>74600.000000</td>\n",
       "      <td>3.000000</td>\n",
       "      <td>294.000000</td>\n",
       "      <td>291800.000000</td>\n",
       "    </tr>\n",
       "  </tbody>\n",
       "</table>\n",
       "</div>"
      ],
      "text/plain": [
       "              price           age         hp_kW             km\n",
       "count  12731.000000  12731.000000  12731.000000   12731.000000\n",
       "mean   17996.286702      1.387244     88.382374   32002.454174\n",
       "std     7349.138624      1.121765     26.693078   37081.360187\n",
       "min     4950.000000      0.000000     40.000000       0.000000\n",
       "25%    12850.000000      0.000000     66.000000    1699.500000\n",
       "50%    16890.000000      1.000000     85.000000   20321.000000\n",
       "75%    21910.000000      2.000000    101.000000   46375.000000\n",
       "max    74600.000000      3.000000    294.000000  291800.000000"
      ]
     },
     "execution_count": 7,
     "metadata": {},
     "output_type": "execute_result"
    }
   ],
   "source": [
    "train_data.describe()"
   ]
  },
  {
   "cell_type": "code",
   "execution_count": 8,
   "id": "60a8102b",
   "metadata": {},
   "outputs": [
    {
     "data": {
      "text/html": [
       "<div>\n",
       "<style scoped>\n",
       "    .dataframe tbody tr th:only-of-type {\n",
       "        vertical-align: middle;\n",
       "    }\n",
       "\n",
       "    .dataframe tbody tr th {\n",
       "        vertical-align: top;\n",
       "    }\n",
       "\n",
       "    .dataframe thead th {\n",
       "        text-align: right;\n",
       "    }\n",
       "</style>\n",
       "<table border=\"1\" class=\"dataframe\">\n",
       "  <thead>\n",
       "    <tr style=\"text-align: right;\">\n",
       "      <th></th>\n",
       "      <th>price</th>\n",
       "      <th>age</th>\n",
       "      <th>hp_kW</th>\n",
       "      <th>km</th>\n",
       "    </tr>\n",
       "  </thead>\n",
       "  <tbody>\n",
       "    <tr>\n",
       "      <th>count</th>\n",
       "      <td>3183.000000</td>\n",
       "      <td>3183.000000</td>\n",
       "      <td>3183.000000</td>\n",
       "      <td>3183.000000</td>\n",
       "    </tr>\n",
       "    <tr>\n",
       "      <th>mean</th>\n",
       "      <td>18133.550424</td>\n",
       "      <td>1.399623</td>\n",
       "      <td>88.968269</td>\n",
       "      <td>32441.995475</td>\n",
       "    </tr>\n",
       "    <tr>\n",
       "      <th>std</th>\n",
       "      <td>7509.562135</td>\n",
       "      <td>1.119744</td>\n",
       "      <td>26.602421</td>\n",
       "      <td>36567.088540</td>\n",
       "    </tr>\n",
       "    <tr>\n",
       "      <th>min</th>\n",
       "      <td>5450.000000</td>\n",
       "      <td>0.000000</td>\n",
       "      <td>51.000000</td>\n",
       "      <td>0.000000</td>\n",
       "    </tr>\n",
       "    <tr>\n",
       "      <th>25%</th>\n",
       "      <td>12880.000000</td>\n",
       "      <td>0.000000</td>\n",
       "      <td>66.000000</td>\n",
       "      <td>2970.500000</td>\n",
       "    </tr>\n",
       "    <tr>\n",
       "      <th>50%</th>\n",
       "      <td>16990.000000</td>\n",
       "      <td>1.000000</td>\n",
       "      <td>85.000000</td>\n",
       "      <td>20900.000000</td>\n",
       "    </tr>\n",
       "    <tr>\n",
       "      <th>75%</th>\n",
       "      <td>21900.000000</td>\n",
       "      <td>2.000000</td>\n",
       "      <td>103.000000</td>\n",
       "      <td>48000.000000</td>\n",
       "    </tr>\n",
       "    <tr>\n",
       "      <th>max</th>\n",
       "      <td>68320.000000</td>\n",
       "      <td>3.000000</td>\n",
       "      <td>294.000000</td>\n",
       "      <td>317000.000000</td>\n",
       "    </tr>\n",
       "  </tbody>\n",
       "</table>\n",
       "</div>"
      ],
      "text/plain": [
       "              price          age        hp_kW             km\n",
       "count   3183.000000  3183.000000  3183.000000    3183.000000\n",
       "mean   18133.550424     1.399623    88.968269   32441.995475\n",
       "std     7509.562135     1.119744    26.602421   36567.088540\n",
       "min     5450.000000     0.000000    51.000000       0.000000\n",
       "25%    12880.000000     0.000000    66.000000    2970.500000\n",
       "50%    16990.000000     1.000000    85.000000   20900.000000\n",
       "75%    21900.000000     2.000000   103.000000   48000.000000\n",
       "max    68320.000000     3.000000   294.000000  317000.000000"
      ]
     },
     "execution_count": 8,
     "metadata": {},
     "output_type": "execute_result"
    }
   ],
   "source": [
    "test_data.describe()"
   ]
  },
  {
   "cell_type": "code",
   "execution_count": 9,
   "id": "f338a05e",
   "metadata": {},
   "outputs": [
    {
     "data": {
      "text/plain": [
       "Audi A3           2488\n",
       "Audi A1           2111\n",
       "Opel Insignia     2044\n",
       "Opel Astra        1995\n",
       "Opel Corsa        1791\n",
       "Renault Clio      1488\n",
       "Renault Espace     786\n",
       "Renault Duster      28\n",
       "Name: make_model, dtype: int64"
      ]
     },
     "execution_count": 9,
     "metadata": {},
     "output_type": "execute_result"
    }
   ],
   "source": [
    "train_data.make_model.value_counts()"
   ]
  },
  {
   "cell_type": "code",
   "execution_count": 10,
   "id": "6f0a32ba",
   "metadata": {},
   "outputs": [
    {
     "data": {
      "text/plain": [
       "Audi A3           609\n",
       "Opel Insignia     554\n",
       "Opel Astra        530\n",
       "Audi A1           503\n",
       "Opel Corsa        425\n",
       "Renault Clio      351\n",
       "Renault Espace    205\n",
       "Renault Duster      6\n",
       "Name: make_model, dtype: int64"
      ]
     },
     "execution_count": 10,
     "metadata": {},
     "output_type": "execute_result"
    }
   ],
   "source": [
    "test_data.make_model.value_counts()"
   ]
  },
  {
   "cell_type": "code",
   "execution_count": 11,
   "id": "bca89b74",
   "metadata": {},
   "outputs": [
    {
     "data": {
      "text/plain": [
       "Manual            6496\n",
       "Automatic         5861\n",
       "Semi-automatic     374\n",
       "Name: Gearing_Type, dtype: int64"
      ]
     },
     "execution_count": 11,
     "metadata": {},
     "output_type": "execute_result"
    }
   ],
   "source": [
    "train_data.Gearing_Type.value_counts()"
   ]
  },
  {
   "cell_type": "markdown",
   "id": "27569321",
   "metadata": {},
   "source": [
    "# Split train_data into train and validation"
   ]
  },
  {
   "cell_type": "code",
   "execution_count": 13,
   "id": "7ef18190",
   "metadata": {},
   "outputs": [],
   "source": [
    "X = train_data.drop([\"price\"], axis = 1)\n",
    "y = train_data['price']"
   ]
  },
  {
   "cell_type": "code",
   "execution_count": 14,
   "id": "d2551cb3",
   "metadata": {},
   "outputs": [],
   "source": [
    "X_train, X_val, y_train, y_val = train_test_split(X, y, test_size=0.25, random_state=1)"
   ]
  },
  {
   "cell_type": "code",
   "execution_count": 15,
   "id": "82d30c7c",
   "metadata": {},
   "outputs": [
    {
     "data": {
      "text/html": [
       "<div>\n",
       "<style scoped>\n",
       "    .dataframe tbody tr th:only-of-type {\n",
       "        vertical-align: middle;\n",
       "    }\n",
       "\n",
       "    .dataframe tbody tr th {\n",
       "        vertical-align: top;\n",
       "    }\n",
       "\n",
       "    .dataframe thead th {\n",
       "        text-align: right;\n",
       "    }\n",
       "</style>\n",
       "<table border=\"1\" class=\"dataframe\">\n",
       "  <thead>\n",
       "    <tr style=\"text-align: right;\">\n",
       "      <th></th>\n",
       "      <th>age</th>\n",
       "      <th>hp_kW</th>\n",
       "      <th>km</th>\n",
       "      <th>Gearing_Type</th>\n",
       "      <th>make_model</th>\n",
       "    </tr>\n",
       "  </thead>\n",
       "  <tbody>\n",
       "    <tr>\n",
       "      <th>8699</th>\n",
       "      <td>2.0</td>\n",
       "      <td>51.0</td>\n",
       "      <td>40000.0</td>\n",
       "      <td>Manual</td>\n",
       "      <td>Opel Corsa</td>\n",
       "    </tr>\n",
       "    <tr>\n",
       "      <th>5137</th>\n",
       "      <td>3.0</td>\n",
       "      <td>70.0</td>\n",
       "      <td>97976.0</td>\n",
       "      <td>Manual</td>\n",
       "      <td>Audi A1</td>\n",
       "    </tr>\n",
       "    <tr>\n",
       "      <th>536</th>\n",
       "      <td>1.0</td>\n",
       "      <td>66.0</td>\n",
       "      <td>14500.0</td>\n",
       "      <td>Manual</td>\n",
       "      <td>Audi A1</td>\n",
       "    </tr>\n",
       "    <tr>\n",
       "      <th>876</th>\n",
       "      <td>3.0</td>\n",
       "      <td>55.0</td>\n",
       "      <td>25329.0</td>\n",
       "      <td>Manual</td>\n",
       "      <td>Opel Corsa</td>\n",
       "    </tr>\n",
       "    <tr>\n",
       "      <th>8690</th>\n",
       "      <td>2.0</td>\n",
       "      <td>125.0</td>\n",
       "      <td>37125.0</td>\n",
       "      <td>Automatic</td>\n",
       "      <td>Opel Insignia</td>\n",
       "    </tr>\n",
       "  </tbody>\n",
       "</table>\n",
       "</div>"
      ],
      "text/plain": [
       "      age  hp_kW       km Gearing_Type     make_model\n",
       "8699  2.0   51.0  40000.0       Manual     Opel Corsa\n",
       "5137  3.0   70.0  97976.0       Manual        Audi A1\n",
       "536   1.0   66.0  14500.0       Manual        Audi A1\n",
       "876   3.0   55.0  25329.0       Manual     Opel Corsa\n",
       "8690  2.0  125.0  37125.0    Automatic  Opel Insignia"
      ]
     },
     "execution_count": 15,
     "metadata": {},
     "output_type": "execute_result"
    }
   ],
   "source": [
    "X_train.head()"
   ]
  },
  {
   "cell_type": "code",
   "execution_count": 16,
   "id": "060ffae3",
   "metadata": {},
   "outputs": [
    {
     "data": {
      "text/plain": [
       "8699     8900\n",
       "5137    11490\n",
       "536     16800\n",
       "876      7899\n",
       "8690    19499\n",
       "Name: price, dtype: int64"
      ]
     },
     "execution_count": 16,
     "metadata": {},
     "output_type": "execute_result"
    }
   ],
   "source": [
    "y_train.head()"
   ]
  },
  {
   "cell_type": "code",
   "execution_count": 17,
   "id": "280aaa60",
   "metadata": {},
   "outputs": [],
   "source": [
    "from sklearn.compose import make_column_transformer\n",
    "from sklearn.preprocessing import OrdinalEncoder"
   ]
  },
  {
   "cell_type": "code",
   "execution_count": 18,
   "id": "7bd30588",
   "metadata": {},
   "outputs": [
    {
     "data": {
      "text/plain": [
       "Index(['Gearing_Type', 'make_model'], dtype='object')"
      ]
     },
     "execution_count": 18,
     "metadata": {},
     "output_type": "execute_result"
    }
   ],
   "source": [
    "cat = X_train.select_dtypes(\"object\").columns\n",
    "cat"
   ]
  },
  {
   "cell_type": "code",
   "execution_count": 25,
   "id": "8e58ab98",
   "metadata": {},
   "outputs": [],
   "source": [
    "ord_enc = OrdinalEncoder()\n",
    "column_trans = make_column_transformer((ord_enc, cat), remainder='passthrough', verbose_feature_names_out=False).set_output(transform=\"pandas\") # remainder: # Keep other columns rather than cat in original form.\n",
    "                                                                                # remainder: # if you want to scale rest of cat columns use \"minmax\" istead passthroug\n",
    "    \n",
    "    # Apply ord_enc to categoric variables and remain in original form rest of them.\n",
    "    # ord_enc for DT based algorithms\n",
    "    # For Linear reg, log reg vs. use one hot encoder "
   ]
  },
  {
   "cell_type": "code",
   "execution_count": 28,
   "id": "ed4f4b85",
   "metadata": {},
   "outputs": [],
   "source": [
    "train = column_trans.fit_transform(X_train)\n",
    "validation = column_trans.transform(X_val)"
   ]
  },
  {
   "cell_type": "code",
   "execution_count": 30,
   "id": "cb78ef1c",
   "metadata": {},
   "outputs": [
    {
     "data": {
      "text/html": [
       "<div>\n",
       "<style scoped>\n",
       "    .dataframe tbody tr th:only-of-type {\n",
       "        vertical-align: middle;\n",
       "    }\n",
       "\n",
       "    .dataframe tbody tr th {\n",
       "        vertical-align: top;\n",
       "    }\n",
       "\n",
       "    .dataframe thead th {\n",
       "        text-align: right;\n",
       "    }\n",
       "</style>\n",
       "<table border=\"1\" class=\"dataframe\">\n",
       "  <thead>\n",
       "    <tr style=\"text-align: right;\">\n",
       "      <th></th>\n",
       "      <th>Gearing_Type</th>\n",
       "      <th>make_model</th>\n",
       "      <th>age</th>\n",
       "      <th>hp_kW</th>\n",
       "      <th>km</th>\n",
       "    </tr>\n",
       "  </thead>\n",
       "  <tbody>\n",
       "    <tr>\n",
       "      <th>8699</th>\n",
       "      <td>1.0</td>\n",
       "      <td>3.0</td>\n",
       "      <td>2.0</td>\n",
       "      <td>51.0</td>\n",
       "      <td>40000.0</td>\n",
       "    </tr>\n",
       "    <tr>\n",
       "      <th>5137</th>\n",
       "      <td>1.0</td>\n",
       "      <td>0.0</td>\n",
       "      <td>3.0</td>\n",
       "      <td>70.0</td>\n",
       "      <td>97976.0</td>\n",
       "    </tr>\n",
       "    <tr>\n",
       "      <th>536</th>\n",
       "      <td>1.0</td>\n",
       "      <td>0.0</td>\n",
       "      <td>1.0</td>\n",
       "      <td>66.0</td>\n",
       "      <td>14500.0</td>\n",
       "    </tr>\n",
       "    <tr>\n",
       "      <th>876</th>\n",
       "      <td>1.0</td>\n",
       "      <td>3.0</td>\n",
       "      <td>3.0</td>\n",
       "      <td>55.0</td>\n",
       "      <td>25329.0</td>\n",
       "    </tr>\n",
       "    <tr>\n",
       "      <th>8690</th>\n",
       "      <td>0.0</td>\n",
       "      <td>4.0</td>\n",
       "      <td>2.0</td>\n",
       "      <td>125.0</td>\n",
       "      <td>37125.0</td>\n",
       "    </tr>\n",
       "  </tbody>\n",
       "</table>\n",
       "</div>"
      ],
      "text/plain": [
       "      Gearing_Type  make_model  age  hp_kW       km\n",
       "8699           1.0         3.0  2.0   51.0  40000.0\n",
       "5137           1.0         0.0  3.0   70.0  97976.0\n",
       "536            1.0         0.0  1.0   66.0  14500.0\n",
       "876            1.0         3.0  3.0   55.0  25329.0\n",
       "8690           0.0         4.0  2.0  125.0  37125.0"
      ]
     },
     "execution_count": 30,
     "metadata": {},
     "output_type": "execute_result"
    }
   ],
   "source": [
    "train.head()"
   ]
  },
  {
   "cell_type": "code",
   "execution_count": 31,
   "id": "b2c2805f",
   "metadata": {},
   "outputs": [],
   "source": [
    "train = pd.concat([pd.Series(y_train, index = X_train.index, name=\"price\", dtype=int), train], axis=1)\n",
    "validation = pd.concat([pd.Series(y_val, index = X_val.index, name=\"price\", dtype=int), validation], axis=1)"
   ]
  },
  {
   "cell_type": "code",
   "execution_count": 32,
   "id": "08e1897d",
   "metadata": {},
   "outputs": [
    {
     "data": {
      "text/html": [
       "<div>\n",
       "<style scoped>\n",
       "    .dataframe tbody tr th:only-of-type {\n",
       "        vertical-align: middle;\n",
       "    }\n",
       "\n",
       "    .dataframe tbody tr th {\n",
       "        vertical-align: top;\n",
       "    }\n",
       "\n",
       "    .dataframe thead th {\n",
       "        text-align: right;\n",
       "    }\n",
       "</style>\n",
       "<table border=\"1\" class=\"dataframe\">\n",
       "  <thead>\n",
       "    <tr style=\"text-align: right;\">\n",
       "      <th></th>\n",
       "      <th>price</th>\n",
       "      <th>Gearing_Type</th>\n",
       "      <th>make_model</th>\n",
       "      <th>age</th>\n",
       "      <th>hp_kW</th>\n",
       "      <th>km</th>\n",
       "    </tr>\n",
       "  </thead>\n",
       "  <tbody>\n",
       "    <tr>\n",
       "      <th>8699</th>\n",
       "      <td>8900</td>\n",
       "      <td>1.0</td>\n",
       "      <td>3.0</td>\n",
       "      <td>2.0</td>\n",
       "      <td>51.0</td>\n",
       "      <td>40000.0</td>\n",
       "    </tr>\n",
       "    <tr>\n",
       "      <th>5137</th>\n",
       "      <td>11490</td>\n",
       "      <td>1.0</td>\n",
       "      <td>0.0</td>\n",
       "      <td>3.0</td>\n",
       "      <td>70.0</td>\n",
       "      <td>97976.0</td>\n",
       "    </tr>\n",
       "    <tr>\n",
       "      <th>536</th>\n",
       "      <td>16800</td>\n",
       "      <td>1.0</td>\n",
       "      <td>0.0</td>\n",
       "      <td>1.0</td>\n",
       "      <td>66.0</td>\n",
       "      <td>14500.0</td>\n",
       "    </tr>\n",
       "    <tr>\n",
       "      <th>876</th>\n",
       "      <td>7899</td>\n",
       "      <td>1.0</td>\n",
       "      <td>3.0</td>\n",
       "      <td>3.0</td>\n",
       "      <td>55.0</td>\n",
       "      <td>25329.0</td>\n",
       "    </tr>\n",
       "    <tr>\n",
       "      <th>8690</th>\n",
       "      <td>19499</td>\n",
       "      <td>0.0</td>\n",
       "      <td>4.0</td>\n",
       "      <td>2.0</td>\n",
       "      <td>125.0</td>\n",
       "      <td>37125.0</td>\n",
       "    </tr>\n",
       "  </tbody>\n",
       "</table>\n",
       "</div>"
      ],
      "text/plain": [
       "      price  Gearing_Type  make_model  age  hp_kW       km\n",
       "8699   8900           1.0         3.0  2.0   51.0  40000.0\n",
       "5137  11490           1.0         0.0  3.0   70.0  97976.0\n",
       "536   16800           1.0         0.0  1.0   66.0  14500.0\n",
       "876    7899           1.0         3.0  3.0   55.0  25329.0\n",
       "8690  19499           0.0         4.0  2.0  125.0  37125.0"
      ]
     },
     "execution_count": 32,
     "metadata": {},
     "output_type": "execute_result"
    }
   ],
   "source": [
    "train.head()"
   ]
  },
  {
   "cell_type": "code",
   "execution_count": 33,
   "id": "0b4816ed",
   "metadata": {},
   "outputs": [
    {
     "data": {
      "text/html": [
       "<div>\n",
       "<style scoped>\n",
       "    .dataframe tbody tr th:only-of-type {\n",
       "        vertical-align: middle;\n",
       "    }\n",
       "\n",
       "    .dataframe tbody tr th {\n",
       "        vertical-align: top;\n",
       "    }\n",
       "\n",
       "    .dataframe thead th {\n",
       "        text-align: right;\n",
       "    }\n",
       "</style>\n",
       "<table border=\"1\" class=\"dataframe\">\n",
       "  <thead>\n",
       "    <tr style=\"text-align: right;\">\n",
       "      <th></th>\n",
       "      <th>price</th>\n",
       "      <th>Gearing_Type</th>\n",
       "      <th>make_model</th>\n",
       "      <th>age</th>\n",
       "      <th>hp_kW</th>\n",
       "      <th>km</th>\n",
       "    </tr>\n",
       "  </thead>\n",
       "  <tbody>\n",
       "    <tr>\n",
       "      <th>3132</th>\n",
       "      <td>15480</td>\n",
       "      <td>0.0</td>\n",
       "      <td>2.0</td>\n",
       "      <td>3.0</td>\n",
       "      <td>100.0</td>\n",
       "      <td>56587.0</td>\n",
       "    </tr>\n",
       "    <tr>\n",
       "      <th>8123</th>\n",
       "      <td>24900</td>\n",
       "      <td>1.0</td>\n",
       "      <td>7.0</td>\n",
       "      <td>1.0</td>\n",
       "      <td>96.0</td>\n",
       "      <td>20000.0</td>\n",
       "    </tr>\n",
       "    <tr>\n",
       "      <th>10948</th>\n",
       "      <td>27400</td>\n",
       "      <td>0.0</td>\n",
       "      <td>0.0</td>\n",
       "      <td>0.0</td>\n",
       "      <td>85.0</td>\n",
       "      <td>10.0</td>\n",
       "    </tr>\n",
       "    <tr>\n",
       "      <th>1986</th>\n",
       "      <td>11975</td>\n",
       "      <td>1.0</td>\n",
       "      <td>2.0</td>\n",
       "      <td>2.0</td>\n",
       "      <td>74.0</td>\n",
       "      <td>38500.0</td>\n",
       "    </tr>\n",
       "    <tr>\n",
       "      <th>7487</th>\n",
       "      <td>12450</td>\n",
       "      <td>1.0</td>\n",
       "      <td>4.0</td>\n",
       "      <td>3.0</td>\n",
       "      <td>103.0</td>\n",
       "      <td>45000.0</td>\n",
       "    </tr>\n",
       "  </tbody>\n",
       "</table>\n",
       "</div>"
      ],
      "text/plain": [
       "       price  Gearing_Type  make_model  age  hp_kW       km\n",
       "3132   15480           0.0         2.0  3.0  100.0  56587.0\n",
       "8123   24900           1.0         7.0  1.0   96.0  20000.0\n",
       "10948  27400           0.0         0.0  0.0   85.0     10.0\n",
       "1986   11975           1.0         2.0  2.0   74.0  38500.0\n",
       "7487   12450           1.0         4.0  3.0  103.0  45000.0"
      ]
     },
     "execution_count": 33,
     "metadata": {},
     "output_type": "execute_result"
    }
   ],
   "source": [
    "validation.head()"
   ]
  },
  {
   "cell_type": "code",
   "execution_count": 34,
   "id": "737b5ad2",
   "metadata": {},
   "outputs": [],
   "source": [
    "train.to_csv('train.csv', index=False, header=False)\n",
    "validation.to_csv('validation.csv', index=False, header=False)"
   ]
  },
  {
   "cell_type": "markdown",
   "id": "91d55b8a",
   "metadata": {},
   "source": [
    "* Amazon SageMaker Python SDK is an open source library for training and deploying machine-learned models on Amazon SageMaker (https://sagemaker.readthedocs.io/en/stable/).\n",
    "* Boto3 is an AWS SDK for Python and it makes easy to integrate your Python application, library, or script with AWS services including Amazon S3, Amazon EC2, Amazon DynamoDB, and more (https://aws.amazon.com/sdk-for-python/)."
   ]
  },
  {
   "cell_type": "code",
   "execution_count": 35,
   "id": "072d052c",
   "metadata": {},
   "outputs": [],
   "source": [
    "# Import sagemaker and boto3 libraries.\n",
    "# SageMaker Python SDK is an open source library for training and deploying machine learning models on Amazon SageMaker using Python scripts.\n",
    "# Boto3 is the name of the Python SDK for AWS. \n",
    "# It allows you to directly create, update, and delete AWS resources from your Python scripts.\n",
    "\n",
    "import sagemaker, boto3\n",
    "bucket = 'hillary-eu13'\n",
    "prefix = 'sagemaker-autoscout'"
   ]
  },
  {
   "cell_type": "code",
   "execution_count": 38,
   "id": "53edc7eb",
   "metadata": {},
   "outputs": [
    {
     "data": {
      "text/plain": [
       "'arn:aws:iam::046402772087:role/service-role/AmazonSageMaker-ExecutionRole-20230504T102133'"
      ]
     },
     "execution_count": 38,
     "metadata": {},
     "output_type": "execute_result"
    }
   ],
   "source": [
    "# Checking the sagemaker execution role\n",
    "role = sagemaker.get_execution_role()\n",
    "role"
   ]
  },
  {
   "cell_type": "code",
   "execution_count": 36,
   "id": "2946f437",
   "metadata": {},
   "outputs": [],
   "source": [
    "# Loading train and validation datasets into S3 bucket.\n",
    "boto3.Session().resource('s3').Bucket(bucket).Object(prefix + '/data/train.csv').upload_file('train.csv')\n",
    "boto3.Session().resource('s3').Bucket(bucket).Object(prefix + '/data/validation.csv').upload_file('validation.csv')"
   ]
  },
  {
   "cell_type": "code",
   "execution_count": 37,
   "id": "5907220f",
   "metadata": {},
   "outputs": [
    {
     "name": "stdout",
     "output_type": "stream",
     "text": [
      "2023-05-04 08:45:55     298744 sagemaker-autoscout/data/train.csv\r\n",
      "2023-05-04 08:45:56      99546 sagemaker-autoscout/data/validation.csv\r\n"
     ]
    }
   ],
   "source": [
    "# Checking the lists of objects in bucket\n",
    "# We can check them also from AWS S3 console\n",
    "! aws s3 ls {bucket}/{prefix}/data --recursive"
   ]
  },
  {
   "cell_type": "code",
   "execution_count": null,
   "id": "a53b2125",
   "metadata": {},
   "outputs": [],
   "source": [
    "## Now go back to sagemaker console and do the jobs: Training-Model Creation- End Point Creations\n",
    "## After creating endpoint come back to this notebook again."
   ]
  },
  {
   "cell_type": "markdown",
   "id": "30f664d4",
   "metadata": {},
   "source": [
    "# Prepare Test Data"
   ]
  },
  {
   "cell_type": "code",
   "execution_count": 39,
   "id": "3453b926",
   "metadata": {},
   "outputs": [],
   "source": [
    "test_data = pd.read_csv(\"test_data.csv\")"
   ]
  },
  {
   "cell_type": "code",
   "execution_count": 40,
   "id": "55feed05",
   "metadata": {},
   "outputs": [
    {
     "data": {
      "text/html": [
       "<div>\n",
       "<style scoped>\n",
       "    .dataframe tbody tr th:only-of-type {\n",
       "        vertical-align: middle;\n",
       "    }\n",
       "\n",
       "    .dataframe tbody tr th {\n",
       "        vertical-align: top;\n",
       "    }\n",
       "\n",
       "    .dataframe thead th {\n",
       "        text-align: right;\n",
       "    }\n",
       "</style>\n",
       "<table border=\"1\" class=\"dataframe\">\n",
       "  <thead>\n",
       "    <tr style=\"text-align: right;\">\n",
       "      <th></th>\n",
       "      <th>price</th>\n",
       "      <th>age</th>\n",
       "      <th>hp_kW</th>\n",
       "      <th>km</th>\n",
       "      <th>Gearing_Type</th>\n",
       "      <th>make_model</th>\n",
       "    </tr>\n",
       "  </thead>\n",
       "  <tbody>\n",
       "    <tr>\n",
       "      <th>0</th>\n",
       "      <td>14500</td>\n",
       "      <td>2.0</td>\n",
       "      <td>141.0</td>\n",
       "      <td>80000.0</td>\n",
       "      <td>Automatic</td>\n",
       "      <td>Audi A1</td>\n",
       "    </tr>\n",
       "    <tr>\n",
       "      <th>1</th>\n",
       "      <td>16790</td>\n",
       "      <td>3.0</td>\n",
       "      <td>66.0</td>\n",
       "      <td>16200.0</td>\n",
       "      <td>Automatic</td>\n",
       "      <td>Audi A1</td>\n",
       "    </tr>\n",
       "    <tr>\n",
       "      <th>2</th>\n",
       "      <td>15090</td>\n",
       "      <td>3.0</td>\n",
       "      <td>85.0</td>\n",
       "      <td>63668.0</td>\n",
       "      <td>Automatic</td>\n",
       "      <td>Audi A1</td>\n",
       "    </tr>\n",
       "    <tr>\n",
       "      <th>3</th>\n",
       "      <td>17990</td>\n",
       "      <td>2.0</td>\n",
       "      <td>70.0</td>\n",
       "      <td>16103.0</td>\n",
       "      <td>Automatic</td>\n",
       "      <td>Audi A1</td>\n",
       "    </tr>\n",
       "    <tr>\n",
       "      <th>4</th>\n",
       "      <td>17990</td>\n",
       "      <td>3.0</td>\n",
       "      <td>92.0</td>\n",
       "      <td>26415.0</td>\n",
       "      <td>Automatic</td>\n",
       "      <td>Audi A1</td>\n",
       "    </tr>\n",
       "  </tbody>\n",
       "</table>\n",
       "</div>"
      ],
      "text/plain": [
       "   price  age  hp_kW       km Gearing_Type make_model\n",
       "0  14500  2.0  141.0  80000.0    Automatic    Audi A1\n",
       "1  16790  3.0   66.0  16200.0    Automatic    Audi A1\n",
       "2  15090  3.0   85.0  63668.0    Automatic    Audi A1\n",
       "3  17990  2.0   70.0  16103.0    Automatic    Audi A1\n",
       "4  17990  3.0   92.0  26415.0    Automatic    Audi A1"
      ]
     },
     "execution_count": 40,
     "metadata": {},
     "output_type": "execute_result"
    }
   ],
   "source": [
    "test_data.head()"
   ]
  },
  {
   "cell_type": "code",
   "execution_count": 41,
   "id": "1ed6ffea",
   "metadata": {},
   "outputs": [],
   "source": [
    "X=test_data.drop([\"price\"], axis = 1)\n",
    "y=test_data['price']"
   ]
  },
  {
   "cell_type": "code",
   "execution_count": 44,
   "id": "c4a168a1",
   "metadata": {},
   "outputs": [],
   "source": [
    "test=column_trans.transform(X)"
   ]
  },
  {
   "cell_type": "code",
   "execution_count": 46,
   "id": "0de25025",
   "metadata": {},
   "outputs": [
    {
     "data": {
      "text/html": [
       "<div>\n",
       "<style scoped>\n",
       "    .dataframe tbody tr th:only-of-type {\n",
       "        vertical-align: middle;\n",
       "    }\n",
       "\n",
       "    .dataframe tbody tr th {\n",
       "        vertical-align: top;\n",
       "    }\n",
       "\n",
       "    .dataframe thead th {\n",
       "        text-align: right;\n",
       "    }\n",
       "</style>\n",
       "<table border=\"1\" class=\"dataframe\">\n",
       "  <thead>\n",
       "    <tr style=\"text-align: right;\">\n",
       "      <th></th>\n",
       "      <th>Gearing_Type</th>\n",
       "      <th>make_model</th>\n",
       "      <th>age</th>\n",
       "      <th>hp_kW</th>\n",
       "      <th>km</th>\n",
       "    </tr>\n",
       "  </thead>\n",
       "  <tbody>\n",
       "    <tr>\n",
       "      <th>0</th>\n",
       "      <td>0.0</td>\n",
       "      <td>0.0</td>\n",
       "      <td>2.0</td>\n",
       "      <td>141.0</td>\n",
       "      <td>80000.0</td>\n",
       "    </tr>\n",
       "    <tr>\n",
       "      <th>1</th>\n",
       "      <td>0.0</td>\n",
       "      <td>0.0</td>\n",
       "      <td>3.0</td>\n",
       "      <td>66.0</td>\n",
       "      <td>16200.0</td>\n",
       "    </tr>\n",
       "    <tr>\n",
       "      <th>2</th>\n",
       "      <td>0.0</td>\n",
       "      <td>0.0</td>\n",
       "      <td>3.0</td>\n",
       "      <td>85.0</td>\n",
       "      <td>63668.0</td>\n",
       "    </tr>\n",
       "    <tr>\n",
       "      <th>3</th>\n",
       "      <td>0.0</td>\n",
       "      <td>0.0</td>\n",
       "      <td>2.0</td>\n",
       "      <td>70.0</td>\n",
       "      <td>16103.0</td>\n",
       "    </tr>\n",
       "    <tr>\n",
       "      <th>4</th>\n",
       "      <td>0.0</td>\n",
       "      <td>0.0</td>\n",
       "      <td>3.0</td>\n",
       "      <td>92.0</td>\n",
       "      <td>26415.0</td>\n",
       "    </tr>\n",
       "  </tbody>\n",
       "</table>\n",
       "</div>"
      ],
      "text/plain": [
       "   Gearing_Type  make_model  age  hp_kW       km\n",
       "0           0.0         0.0  2.0  141.0  80000.0\n",
       "1           0.0         0.0  3.0   66.0  16200.0\n",
       "2           0.0         0.0  3.0   85.0  63668.0\n",
       "3           0.0         0.0  2.0   70.0  16103.0\n",
       "4           0.0         0.0  3.0   92.0  26415.0"
      ]
     },
     "execution_count": 46,
     "metadata": {},
     "output_type": "execute_result"
    }
   ],
   "source": [
    "test.head()"
   ]
  },
  {
   "cell_type": "code",
   "execution_count": 47,
   "id": "eb9776e9",
   "metadata": {},
   "outputs": [
    {
     "data": {
      "text/plain": [
       "(3183, 5)"
      ]
     },
     "execution_count": 47,
     "metadata": {},
     "output_type": "execute_result"
    }
   ],
   "source": [
    "test.shape"
   ]
  },
  {
   "cell_type": "code",
   "execution_count": 48,
   "id": "8c34e68a",
   "metadata": {},
   "outputs": [],
   "source": [
    "test.to_csv('test.csv', index=False, header=False)"
   ]
  },
  {
   "cell_type": "markdown",
   "id": "1e026993",
   "metadata": {},
   "source": [
    "# Model Deployment using endpoint name"
   ]
  },
  {
   "cell_type": "code",
   "execution_count": 49,
   "id": "a5eae213",
   "metadata": {},
   "outputs": [
    {
     "data": {
      "text/plain": [
       "'hillary-eu13'"
      ]
     },
     "execution_count": 49,
     "metadata": {},
     "output_type": "execute_result"
    }
   ],
   "source": [
    "endpoint_name = \"hillary-eu13\"   # copy the name from sagemaker console\n",
    "endpoint_name"
   ]
  },
  {
   "cell_type": "code",
   "execution_count": 50,
   "id": "296c9c44",
   "metadata": {},
   "outputs": [
    {
     "name": "stdout",
     "output_type": "stream",
     "text": [
      "AWS Region: us-east-1\n",
      "RoleArn:arn:aws:iam::046402772087:role/service-role/AmazonSageMaker-ExecutionRole-20230504T102133\n"
     ]
    }
   ],
   "source": [
    "# defining the region and the role that will be used \n",
    "region = sagemaker.Session().boto_region_name\n",
    "print(\"AWS Region: {}\".format(region))\n",
    "\n",
    "role = sagemaker.get_execution_role()\n",
    "print(\"RoleArn:{}\".format(role))"
   ]
  },
  {
   "cell_type": "code",
   "execution_count": 51,
   "id": "a33647ed",
   "metadata": {},
   "outputs": [],
   "source": [
    "# Reading and preparing the test data as payload for prediction\n",
    "with open('test.csv', 'r') as f:\n",
    "    payload = f.read().strip('\\n')"
   ]
  },
  {
   "cell_type": "code",
   "execution_count": 53,
   "id": "f2fae5b6",
   "metadata": {},
   "outputs": [],
   "source": [
    "# checking the content of payload\n",
    "# payload"
   ]
  },
  {
   "cell_type": "code",
   "execution_count": 54,
   "id": "4d1db29e",
   "metadata": {},
   "outputs": [],
   "source": [
    "\n",
    "# Create sagemaker runtime object to send request to endpoint and get response\n",
    "sagemaker_runtime = boto3.client(\"sagemaker-runtime\", region_name=boto3.Session().region_name)\n",
    "\n",
    "# The name of the endpoint. The name must be unique within an AWS Region in your AWS account. \n",
    "\n",
    "# Invoke endpoint to get prediction results\n",
    "response = sagemaker_runtime.invoke_endpoint(\n",
    "                            EndpointName=endpoint_name,  # endpoint name we created (should be unique)\n",
    "                            Body=payload,  # prediction data, replace with your own data.\n",
    "                            ContentType = 'text/csv')  # type of data\n",
    "\n",
    "# Optional - to see prediction result\n",
    "# print(response['Body'].read().decode('utf-8'))"
   ]
  },
  {
   "cell_type": "code",
   "execution_count": 56,
   "id": "966b16fb",
   "metadata": {},
   "outputs": [],
   "source": [
    "# The prediction result is in json format and \"Body\" key contains the prediction values.\n",
    "response"
   ]
  },
  {
   "cell_type": "code",
   "execution_count": 57,
   "id": "25445bf1",
   "metadata": {},
   "outputs": [],
   "source": [
    "# prediction results\n",
    "results = response['Body'].read()\n",
    "\n",
    "# prediction results - alternative\n",
    "# results = response['Body'].read().decode('utf-8')\n",
    "results"
   ]
  },
  {
   "cell_type": "code",
   "execution_count": 58,
   "id": "66af8e47",
   "metadata": {},
   "outputs": [],
   "source": [
    "# prediction results as numpy array\n",
    "results = np.fromstring(results, sep='\\n')"
   ]
  },
  {
   "cell_type": "code",
   "execution_count": 59,
   "id": "63040f67",
   "metadata": {},
   "outputs": [
    {
     "data": {
      "text/plain": [
       "array([18229.4140625 , 15893.91308594, 16086.77734375, ...,\n",
       "       36081.609375  , 33964.19921875, 43396.0078125 ])"
      ]
     },
     "execution_count": 59,
     "metadata": {},
     "output_type": "execute_result"
    }
   ],
   "source": [
    "results"
   ]
  },
  {
   "attachments": {},
   "cell_type": "markdown",
   "id": "d3507536",
   "metadata": {},
   "source": [
    "## Check the Model Performance"
   ]
  },
  {
   "cell_type": "code",
   "execution_count": 60,
   "id": "79296e21",
   "metadata": {},
   "outputs": [],
   "source": [
    "y=test_data['price']"
   ]
  },
  {
   "cell_type": "code",
   "execution_count": 61,
   "id": "a4b39b71",
   "metadata": {},
   "outputs": [],
   "source": [
    "def eval_metrics(actual, pred):\n",
    "    rmse = np.sqrt(mean_squared_error(actual, pred))\n",
    "    mae = mean_absolute_error(actual, pred)\n",
    "    mse = mean_squared_error(actual, pred)\n",
    "    score = r2_score(actual, pred)\n",
    "    return print(\" r2_score:\", score, \"\\n\",\"mae:\", mae, \"\\n\",\"mse:\",mse, \"\\n\",\"rmse:\",rmse)"
   ]
  },
  {
   "cell_type": "code",
   "execution_count": 62,
   "id": "641d12b0",
   "metadata": {},
   "outputs": [
    {
     "name": "stdout",
     "output_type": "stream",
     "text": [
      " r2_score: 0.9215310890462863 \n",
      " mae: 1247.0648232860608 \n",
      " mse: 4423748.129496977 \n",
      " rmse: 2103.270816965085\n"
     ]
    }
   ],
   "source": [
    "eval_metrics(y, results)"
   ]
  },
  {
   "cell_type": "code",
   "execution_count": 63,
   "id": "576a21a3",
   "metadata": {},
   "outputs": [
    {
     "data": {
      "text/html": [
       "<div>\n",
       "<style scoped>\n",
       "    .dataframe tbody tr th:only-of-type {\n",
       "        vertical-align: middle;\n",
       "    }\n",
       "\n",
       "    .dataframe tbody tr th {\n",
       "        vertical-align: top;\n",
       "    }\n",
       "\n",
       "    .dataframe thead th {\n",
       "        text-align: right;\n",
       "    }\n",
       "</style>\n",
       "<table border=\"1\" class=\"dataframe\">\n",
       "  <thead>\n",
       "    <tr style=\"text-align: right;\">\n",
       "      <th></th>\n",
       "      <th>price</th>\n",
       "      <th>age</th>\n",
       "      <th>hp_kW</th>\n",
       "      <th>km</th>\n",
       "      <th>Gearing_Type</th>\n",
       "      <th>make_model</th>\n",
       "    </tr>\n",
       "  </thead>\n",
       "  <tbody>\n",
       "    <tr>\n",
       "      <th>0</th>\n",
       "      <td>14500</td>\n",
       "      <td>2.0</td>\n",
       "      <td>141.0</td>\n",
       "      <td>80000.0</td>\n",
       "      <td>Automatic</td>\n",
       "      <td>Audi A1</td>\n",
       "    </tr>\n",
       "    <tr>\n",
       "      <th>1</th>\n",
       "      <td>16790</td>\n",
       "      <td>3.0</td>\n",
       "      <td>66.0</td>\n",
       "      <td>16200.0</td>\n",
       "      <td>Automatic</td>\n",
       "      <td>Audi A1</td>\n",
       "    </tr>\n",
       "    <tr>\n",
       "      <th>2</th>\n",
       "      <td>15090</td>\n",
       "      <td>3.0</td>\n",
       "      <td>85.0</td>\n",
       "      <td>63668.0</td>\n",
       "      <td>Automatic</td>\n",
       "      <td>Audi A1</td>\n",
       "    </tr>\n",
       "    <tr>\n",
       "      <th>3</th>\n",
       "      <td>17990</td>\n",
       "      <td>2.0</td>\n",
       "      <td>70.0</td>\n",
       "      <td>16103.0</td>\n",
       "      <td>Automatic</td>\n",
       "      <td>Audi A1</td>\n",
       "    </tr>\n",
       "    <tr>\n",
       "      <th>4</th>\n",
       "      <td>17990</td>\n",
       "      <td>3.0</td>\n",
       "      <td>92.0</td>\n",
       "      <td>26415.0</td>\n",
       "      <td>Automatic</td>\n",
       "      <td>Audi A1</td>\n",
       "    </tr>\n",
       "  </tbody>\n",
       "</table>\n",
       "</div>"
      ],
      "text/plain": [
       "   price  age  hp_kW       km Gearing_Type make_model\n",
       "0  14500  2.0  141.0  80000.0    Automatic    Audi A1\n",
       "1  16790  3.0   66.0  16200.0    Automatic    Audi A1\n",
       "2  15090  3.0   85.0  63668.0    Automatic    Audi A1\n",
       "3  17990  2.0   70.0  16103.0    Automatic    Audi A1\n",
       "4  17990  3.0   92.0  26415.0    Automatic    Audi A1"
      ]
     },
     "execution_count": 63,
     "metadata": {},
     "output_type": "execute_result"
    }
   ],
   "source": [
    "test_data.head()"
   ]
  },
  {
   "cell_type": "code",
   "execution_count": 64,
   "id": "53841221",
   "metadata": {},
   "outputs": [],
   "source": [
    "test_data[\"predicted_price\"] = results"
   ]
  },
  {
   "cell_type": "code",
   "execution_count": 65,
   "id": "c5caf21f",
   "metadata": {},
   "outputs": [
    {
     "data": {
      "text/html": [
       "<div>\n",
       "<style scoped>\n",
       "    .dataframe tbody tr th:only-of-type {\n",
       "        vertical-align: middle;\n",
       "    }\n",
       "\n",
       "    .dataframe tbody tr th {\n",
       "        vertical-align: top;\n",
       "    }\n",
       "\n",
       "    .dataframe thead th {\n",
       "        text-align: right;\n",
       "    }\n",
       "</style>\n",
       "<table border=\"1\" class=\"dataframe\">\n",
       "  <thead>\n",
       "    <tr style=\"text-align: right;\">\n",
       "      <th></th>\n",
       "      <th>price</th>\n",
       "      <th>age</th>\n",
       "      <th>hp_kW</th>\n",
       "      <th>km</th>\n",
       "      <th>Gearing_Type</th>\n",
       "      <th>make_model</th>\n",
       "      <th>predicted_price</th>\n",
       "    </tr>\n",
       "  </thead>\n",
       "  <tbody>\n",
       "    <tr>\n",
       "      <th>1846</th>\n",
       "      <td>13990</td>\n",
       "      <td>1.0</td>\n",
       "      <td>66.0</td>\n",
       "      <td>12099.0</td>\n",
       "      <td>Automatic</td>\n",
       "      <td>Opel Corsa</td>\n",
       "      <td>13252.246094</td>\n",
       "    </tr>\n",
       "    <tr>\n",
       "      <th>1671</th>\n",
       "      <td>12500</td>\n",
       "      <td>3.0</td>\n",
       "      <td>66.0</td>\n",
       "      <td>52000.0</td>\n",
       "      <td>Automatic</td>\n",
       "      <td>Opel Corsa</td>\n",
       "      <td>11372.838867</td>\n",
       "    </tr>\n",
       "    <tr>\n",
       "      <th>1497</th>\n",
       "      <td>13900</td>\n",
       "      <td>1.0</td>\n",
       "      <td>81.0</td>\n",
       "      <td>13149.0</td>\n",
       "      <td>Manual</td>\n",
       "      <td>Opel Astra</td>\n",
       "      <td>13796.971680</td>\n",
       "    </tr>\n",
       "    <tr>\n",
       "      <th>149</th>\n",
       "      <td>15950</td>\n",
       "      <td>3.0</td>\n",
       "      <td>66.0</td>\n",
       "      <td>53900.0</td>\n",
       "      <td>Semi-automatic</td>\n",
       "      <td>Audi A1</td>\n",
       "      <td>16672.304688</td>\n",
       "    </tr>\n",
       "    <tr>\n",
       "      <th>2352</th>\n",
       "      <td>16800</td>\n",
       "      <td>1.0</td>\n",
       "      <td>103.0</td>\n",
       "      <td>23401.0</td>\n",
       "      <td>Manual</td>\n",
       "      <td>Opel Insignia</td>\n",
       "      <td>18808.583984</td>\n",
       "    </tr>\n",
       "    <tr>\n",
       "      <th>3007</th>\n",
       "      <td>25490</td>\n",
       "      <td>2.0</td>\n",
       "      <td>147.0</td>\n",
       "      <td>49606.0</td>\n",
       "      <td>Automatic</td>\n",
       "      <td>Renault Espace</td>\n",
       "      <td>25784.541016</td>\n",
       "    </tr>\n",
       "    <tr>\n",
       "      <th>2114</th>\n",
       "      <td>15980</td>\n",
       "      <td>3.0</td>\n",
       "      <td>125.0</td>\n",
       "      <td>88346.0</td>\n",
       "      <td>Automatic</td>\n",
       "      <td>Opel Insignia</td>\n",
       "      <td>15745.564453</td>\n",
       "    </tr>\n",
       "    <tr>\n",
       "      <th>1805</th>\n",
       "      <td>8850</td>\n",
       "      <td>2.0</td>\n",
       "      <td>70.0</td>\n",
       "      <td>89000.0</td>\n",
       "      <td>Manual</td>\n",
       "      <td>Opel Corsa</td>\n",
       "      <td>7742.413086</td>\n",
       "    </tr>\n",
       "    <tr>\n",
       "      <th>1304</th>\n",
       "      <td>17400</td>\n",
       "      <td>2.0</td>\n",
       "      <td>110.0</td>\n",
       "      <td>62000.0</td>\n",
       "      <td>Automatic</td>\n",
       "      <td>Opel Astra</td>\n",
       "      <td>15051.368164</td>\n",
       "    </tr>\n",
       "    <tr>\n",
       "      <th>1256</th>\n",
       "      <td>10980</td>\n",
       "      <td>3.0</td>\n",
       "      <td>100.0</td>\n",
       "      <td>107791.0</td>\n",
       "      <td>Manual</td>\n",
       "      <td>Opel Astra</td>\n",
       "      <td>10309.319336</td>\n",
       "    </tr>\n",
       "  </tbody>\n",
       "</table>\n",
       "</div>"
      ],
      "text/plain": [
       "      price  age  hp_kW        km    Gearing_Type      make_model  \\\n",
       "1846  13990  1.0   66.0   12099.0       Automatic      Opel Corsa   \n",
       "1671  12500  3.0   66.0   52000.0       Automatic      Opel Corsa   \n",
       "1497  13900  1.0   81.0   13149.0          Manual      Opel Astra   \n",
       "149   15950  3.0   66.0   53900.0  Semi-automatic         Audi A1   \n",
       "2352  16800  1.0  103.0   23401.0          Manual   Opel Insignia   \n",
       "3007  25490  2.0  147.0   49606.0       Automatic  Renault Espace   \n",
       "2114  15980  3.0  125.0   88346.0       Automatic   Opel Insignia   \n",
       "1805   8850  2.0   70.0   89000.0          Manual      Opel Corsa   \n",
       "1304  17400  2.0  110.0   62000.0       Automatic      Opel Astra   \n",
       "1256  10980  3.0  100.0  107791.0          Manual      Opel Astra   \n",
       "\n",
       "      predicted_price  \n",
       "1846     13252.246094  \n",
       "1671     11372.838867  \n",
       "1497     13796.971680  \n",
       "149      16672.304688  \n",
       "2352     18808.583984  \n",
       "3007     25784.541016  \n",
       "2114     15745.564453  \n",
       "1805      7742.413086  \n",
       "1304     15051.368164  \n",
       "1256     10309.319336  "
      ]
     },
     "execution_count": 65,
     "metadata": {},
     "output_type": "execute_result"
    }
   ],
   "source": [
    "test_data.sample(10, random_state=41)"
   ]
  },
  {
   "cell_type": "code",
   "execution_count": null,
   "id": "a661e436",
   "metadata": {},
   "outputs": [],
   "source": []
  }
 ],
 "metadata": {
  "kernelspec": {
   "display_name": "conda_python3",
   "language": "python",
   "name": "conda_python3"
  },
  "language_info": {
   "codemirror_mode": {
    "name": "ipython",
    "version": 3
   },
   "file_extension": ".py",
   "mimetype": "text/x-python",
   "name": "python",
   "nbconvert_exporter": "python",
   "pygments_lexer": "ipython3",
   "version": "3.10.8"
  }
 },
 "nbformat": 4,
 "nbformat_minor": 5
}
