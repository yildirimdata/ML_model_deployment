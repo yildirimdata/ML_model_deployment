{
 "cells": [
  {
   "attachments": {},
   "cell_type": "markdown",
   "id": "cc3977d3",
   "metadata": {},
   "source": [
    "## Import Libraries"
   ]
  },
  {
   "cell_type": "code",
   "execution_count": 1,
   "id": "ce454bb0",
   "metadata": {},
   "outputs": [],
   "source": [
    "import pandas as pd\n",
    "import numpy as np\n",
    "import matplotlib.pyplot as plt\n",
    "import seaborn as sns\n",
    "%matplotlib inline\n",
    "\n",
    "plt.rcParams[\"figure.figsize\"] = (7,4)\n",
    "import warnings\n",
    "warnings.filterwarnings(\"ignore\")\n",
    "warnings.warn(\"this will not show\")"
   ]
  },
  {
   "cell_type": "code",
   "execution_count": 2,
   "id": "4729752c",
   "metadata": {},
   "outputs": [
    {
     "data": {
      "text/html": [
       "<div>\n",
       "<style scoped>\n",
       "    .dataframe tbody tr th:only-of-type {\n",
       "        vertical-align: middle;\n",
       "    }\n",
       "\n",
       "    .dataframe tbody tr th {\n",
       "        vertical-align: top;\n",
       "    }\n",
       "\n",
       "    .dataframe thead th {\n",
       "        text-align: right;\n",
       "    }\n",
       "</style>\n",
       "<table border=\"1\" class=\"dataframe\">\n",
       "  <thead>\n",
       "    <tr style=\"text-align: right;\">\n",
       "      <th></th>\n",
       "      <th>Pregnancies</th>\n",
       "      <th>Glucose</th>\n",
       "      <th>BloodPressure</th>\n",
       "      <th>SkinThickness</th>\n",
       "      <th>Insulin</th>\n",
       "      <th>BMI</th>\n",
       "      <th>DiabetesPedigreeFunction</th>\n",
       "      <th>Age</th>\n",
       "      <th>Outcome</th>\n",
       "    </tr>\n",
       "  </thead>\n",
       "  <tbody>\n",
       "    <tr>\n",
       "      <th>0</th>\n",
       "      <td>6</td>\n",
       "      <td>148</td>\n",
       "      <td>72</td>\n",
       "      <td>35</td>\n",
       "      <td>0</td>\n",
       "      <td>33.6</td>\n",
       "      <td>0.627</td>\n",
       "      <td>50</td>\n",
       "      <td>1</td>\n",
       "    </tr>\n",
       "    <tr>\n",
       "      <th>1</th>\n",
       "      <td>1</td>\n",
       "      <td>85</td>\n",
       "      <td>66</td>\n",
       "      <td>29</td>\n",
       "      <td>0</td>\n",
       "      <td>26.6</td>\n",
       "      <td>0.351</td>\n",
       "      <td>31</td>\n",
       "      <td>0</td>\n",
       "    </tr>\n",
       "    <tr>\n",
       "      <th>2</th>\n",
       "      <td>8</td>\n",
       "      <td>183</td>\n",
       "      <td>64</td>\n",
       "      <td>0</td>\n",
       "      <td>0</td>\n",
       "      <td>23.3</td>\n",
       "      <td>0.672</td>\n",
       "      <td>32</td>\n",
       "      <td>1</td>\n",
       "    </tr>\n",
       "    <tr>\n",
       "      <th>3</th>\n",
       "      <td>1</td>\n",
       "      <td>89</td>\n",
       "      <td>66</td>\n",
       "      <td>23</td>\n",
       "      <td>94</td>\n",
       "      <td>28.1</td>\n",
       "      <td>0.167</td>\n",
       "      <td>21</td>\n",
       "      <td>0</td>\n",
       "    </tr>\n",
       "    <tr>\n",
       "      <th>4</th>\n",
       "      <td>0</td>\n",
       "      <td>137</td>\n",
       "      <td>40</td>\n",
       "      <td>35</td>\n",
       "      <td>168</td>\n",
       "      <td>43.1</td>\n",
       "      <td>2.288</td>\n",
       "      <td>33</td>\n",
       "      <td>1</td>\n",
       "    </tr>\n",
       "  </tbody>\n",
       "</table>\n",
       "</div>"
      ],
      "text/plain": [
       "   Pregnancies  Glucose  BloodPressure  SkinThickness  Insulin   BMI  \\\n",
       "0            6      148             72             35        0  33.6   \n",
       "1            1       85             66             29        0  26.6   \n",
       "2            8      183             64              0        0  23.3   \n",
       "3            1       89             66             23       94  28.1   \n",
       "4            0      137             40             35      168  43.1   \n",
       "\n",
       "   DiabetesPedigreeFunction  Age  Outcome  \n",
       "0                     0.627   50        1  \n",
       "1                     0.351   31        0  \n",
       "2                     0.672   32        1  \n",
       "3                     0.167   21        0  \n",
       "4                     2.288   33        1  "
      ]
     },
     "execution_count": 2,
     "metadata": {},
     "output_type": "execute_result"
    }
   ],
   "source": [
    "df = pd.read_csv('diabetes.csv')\n",
    "df.head()"
   ]
  },
  {
   "attachments": {},
   "cell_type": "markdown",
   "id": "06944f7f",
   "metadata": {},
   "source": [
    "## Exploratory Data Analysis and Visualization"
   ]
  },
  {
   "cell_type": "code",
   "execution_count": 3,
   "id": "689fc85a",
   "metadata": {},
   "outputs": [
    {
     "name": "stdout",
     "output_type": "stream",
     "text": [
      "<class 'pandas.core.frame.DataFrame'>\n",
      "RangeIndex: 768 entries, 0 to 767\n",
      "Data columns (total 9 columns):\n",
      " #   Column                    Non-Null Count  Dtype  \n",
      "---  ------                    --------------  -----  \n",
      " 0   Pregnancies               768 non-null    int64  \n",
      " 1   Glucose                   768 non-null    int64  \n",
      " 2   BloodPressure             768 non-null    int64  \n",
      " 3   SkinThickness             768 non-null    int64  \n",
      " 4   Insulin                   768 non-null    int64  \n",
      " 5   BMI                       768 non-null    float64\n",
      " 6   DiabetesPedigreeFunction  768 non-null    float64\n",
      " 7   Age                       768 non-null    int64  \n",
      " 8   Outcome                   768 non-null    int64  \n",
      "dtypes: float64(2), int64(7)\n",
      "memory usage: 54.1 KB\n"
     ]
    }
   ],
   "source": [
    "df.info()"
   ]
  },
  {
   "cell_type": "code",
   "execution_count": 4,
   "id": "c741379e",
   "metadata": {},
   "outputs": [
    {
     "data": {
      "text/plain": [
       "(768, 9)"
      ]
     },
     "execution_count": 4,
     "metadata": {},
     "output_type": "execute_result"
    }
   ],
   "source": [
    "df.shape"
   ]
  },
  {
   "cell_type": "code",
   "execution_count": 6,
   "id": "b36b081d",
   "metadata": {},
   "outputs": [
    {
     "data": {
      "text/html": [
       "<div>\n",
       "<style scoped>\n",
       "    .dataframe tbody tr th:only-of-type {\n",
       "        vertical-align: middle;\n",
       "    }\n",
       "\n",
       "    .dataframe tbody tr th {\n",
       "        vertical-align: top;\n",
       "    }\n",
       "\n",
       "    .dataframe thead th {\n",
       "        text-align: right;\n",
       "    }\n",
       "</style>\n",
       "<table border=\"1\" class=\"dataframe\">\n",
       "  <thead>\n",
       "    <tr style=\"text-align: right;\">\n",
       "      <th></th>\n",
       "      <th>Pregnancies</th>\n",
       "      <th>Glucose</th>\n",
       "      <th>BloodPressure</th>\n",
       "      <th>SkinThickness</th>\n",
       "      <th>Insulin</th>\n",
       "      <th>BMI</th>\n",
       "      <th>DiabetesPedigreeFunction</th>\n",
       "      <th>Age</th>\n",
       "      <th>Outcome</th>\n",
       "    </tr>\n",
       "  </thead>\n",
       "  <tbody>\n",
       "    <tr>\n",
       "      <th>count</th>\n",
       "      <td>768.000000</td>\n",
       "      <td>768.000000</td>\n",
       "      <td>768.000000</td>\n",
       "      <td>768.000000</td>\n",
       "      <td>768.000000</td>\n",
       "      <td>768.000000</td>\n",
       "      <td>768.000000</td>\n",
       "      <td>768.000000</td>\n",
       "      <td>768.000000</td>\n",
       "    </tr>\n",
       "    <tr>\n",
       "      <th>mean</th>\n",
       "      <td>3.845052</td>\n",
       "      <td>120.894531</td>\n",
       "      <td>69.105469</td>\n",
       "      <td>20.536458</td>\n",
       "      <td>79.799479</td>\n",
       "      <td>31.992578</td>\n",
       "      <td>0.471876</td>\n",
       "      <td>33.240885</td>\n",
       "      <td>0.348958</td>\n",
       "    </tr>\n",
       "    <tr>\n",
       "      <th>std</th>\n",
       "      <td>3.369578</td>\n",
       "      <td>31.972618</td>\n",
       "      <td>19.355807</td>\n",
       "      <td>15.952218</td>\n",
       "      <td>115.244002</td>\n",
       "      <td>7.884160</td>\n",
       "      <td>0.331329</td>\n",
       "      <td>11.760232</td>\n",
       "      <td>0.476951</td>\n",
       "    </tr>\n",
       "    <tr>\n",
       "      <th>min</th>\n",
       "      <td>0.000000</td>\n",
       "      <td>0.000000</td>\n",
       "      <td>0.000000</td>\n",
       "      <td>0.000000</td>\n",
       "      <td>0.000000</td>\n",
       "      <td>0.000000</td>\n",
       "      <td>0.078000</td>\n",
       "      <td>21.000000</td>\n",
       "      <td>0.000000</td>\n",
       "    </tr>\n",
       "    <tr>\n",
       "      <th>25%</th>\n",
       "      <td>1.000000</td>\n",
       "      <td>99.000000</td>\n",
       "      <td>62.000000</td>\n",
       "      <td>0.000000</td>\n",
       "      <td>0.000000</td>\n",
       "      <td>27.300000</td>\n",
       "      <td>0.243750</td>\n",
       "      <td>24.000000</td>\n",
       "      <td>0.000000</td>\n",
       "    </tr>\n",
       "    <tr>\n",
       "      <th>50%</th>\n",
       "      <td>3.000000</td>\n",
       "      <td>117.000000</td>\n",
       "      <td>72.000000</td>\n",
       "      <td>23.000000</td>\n",
       "      <td>30.500000</td>\n",
       "      <td>32.000000</td>\n",
       "      <td>0.372500</td>\n",
       "      <td>29.000000</td>\n",
       "      <td>0.000000</td>\n",
       "    </tr>\n",
       "    <tr>\n",
       "      <th>75%</th>\n",
       "      <td>6.000000</td>\n",
       "      <td>140.250000</td>\n",
       "      <td>80.000000</td>\n",
       "      <td>32.000000</td>\n",
       "      <td>127.250000</td>\n",
       "      <td>36.600000</td>\n",
       "      <td>0.626250</td>\n",
       "      <td>41.000000</td>\n",
       "      <td>1.000000</td>\n",
       "    </tr>\n",
       "    <tr>\n",
       "      <th>max</th>\n",
       "      <td>17.000000</td>\n",
       "      <td>199.000000</td>\n",
       "      <td>122.000000</td>\n",
       "      <td>99.000000</td>\n",
       "      <td>846.000000</td>\n",
       "      <td>67.100000</td>\n",
       "      <td>2.420000</td>\n",
       "      <td>81.000000</td>\n",
       "      <td>1.000000</td>\n",
       "    </tr>\n",
       "  </tbody>\n",
       "</table>\n",
       "</div>"
      ],
      "text/plain": [
       "       Pregnancies     Glucose  BloodPressure  SkinThickness     Insulin  \\\n",
       "count   768.000000  768.000000     768.000000     768.000000  768.000000   \n",
       "mean      3.845052  120.894531      69.105469      20.536458   79.799479   \n",
       "std       3.369578   31.972618      19.355807      15.952218  115.244002   \n",
       "min       0.000000    0.000000       0.000000       0.000000    0.000000   \n",
       "25%       1.000000   99.000000      62.000000       0.000000    0.000000   \n",
       "50%       3.000000  117.000000      72.000000      23.000000   30.500000   \n",
       "75%       6.000000  140.250000      80.000000      32.000000  127.250000   \n",
       "max      17.000000  199.000000     122.000000      99.000000  846.000000   \n",
       "\n",
       "              BMI  DiabetesPedigreeFunction         Age     Outcome  \n",
       "count  768.000000                768.000000  768.000000  768.000000  \n",
       "mean    31.992578                  0.471876   33.240885    0.348958  \n",
       "std      7.884160                  0.331329   11.760232    0.476951  \n",
       "min      0.000000                  0.078000   21.000000    0.000000  \n",
       "25%     27.300000                  0.243750   24.000000    0.000000  \n",
       "50%     32.000000                  0.372500   29.000000    0.000000  \n",
       "75%     36.600000                  0.626250   41.000000    1.000000  \n",
       "max     67.100000                  2.420000   81.000000    1.000000  "
      ]
     },
     "execution_count": 6,
     "metadata": {},
     "output_type": "execute_result"
    }
   ],
   "source": [
    "df.describe()"
   ]
  },
  {
   "cell_type": "code",
   "execution_count": 7,
   "id": "c69cf9f1",
   "metadata": {},
   "outputs": [
    {
     "data": {
      "image/png": "[encoded data removed]",
      "text/plain": [
       "<Figure size 700x400 with 1 Axes>"
      ]
     },
     "metadata": {},
     "output_type": "display_data"
    }
   ],
   "source": [
    "ax = sns.countplot(x='Outcome', data=df)\n",
    "ax.bar_label(ax.containers[0]);"
   ]
  },
  {
   "cell_type": "code",
   "execution_count": 7,
   "id": "2501b99b",
   "metadata": {},
   "outputs": [],
   "source": [
    "df=df[df.SkinThickness<70]\n",
    "df=df[df.Glucose>0]\n",
    "df=df[df.BloodPressure>35]\n",
    "df=df[df.BMI>0]"
   ]
  },
  {
   "cell_type": "code",
   "execution_count": 8,
   "id": "7a5b95e6",
   "metadata": {},
   "outputs": [
    {
     "data": {
      "text/plain": [
       "(720, 9)"
      ]
     },
     "execution_count": 8,
     "metadata": {},
     "output_type": "execute_result"
    }
   ],
   "source": [
    "df.shape"
   ]
  },
  {
   "cell_type": "code",
   "execution_count": 9,
   "id": "32f4314c",
   "metadata": {},
   "outputs": [
    {
     "data": {
      "text/plain": [
       "0    473\n",
       "1    247\n",
       "Name: Outcome, dtype: int64"
      ]
     },
     "execution_count": 9,
     "metadata": {},
     "output_type": "execute_result"
    }
   ],
   "source": [
    "df.Outcome.value_counts() "
   ]
  },
  {
   "cell_type": "code",
   "execution_count": 10,
   "id": "3b4b4bb0",
   "metadata": {},
   "outputs": [
    {
     "data": {
      "text/plain": [
       "1.9149797570850202"
      ]
     },
     "execution_count": 10,
     "metadata": {},
     "output_type": "execute_result"
    }
   ],
   "source": [
    "473/247  # ratio of number of the class zero to the class one"
   ]
  },
  {
   "cell_type": "code",
   "execution_count": 11,
   "id": "65ecc57f",
   "metadata": {},
   "outputs": [
    {
     "data": {
      "image/png": "[encoded data removed]",
      "text/plain": [
       "<Figure size 900x500 with 1 Axes>"
      ]
     },
     "metadata": {},
     "output_type": "display_data"
    }
   ],
   "source": [
    "plt.figure(figsize=(9,5))\n",
    "ax = df.corr()[\"Outcome\"].drop(\"Outcome\").sort_values().plot.barh()\n",
    "ax.bar_label(ax.containers[0], fmt='%.2f');"
   ]
  },
  {
   "attachments": {},
   "cell_type": "markdown",
   "id": "c70d0c8a",
   "metadata": {},
   "source": [
    "## Train | Test Split"
   ]
  },
  {
   "cell_type": "code",
   "execution_count": 11,
   "id": "04542b00",
   "metadata": {},
   "outputs": [],
   "source": [
    "from sklearn.model_selection import train_test_split"
   ]
  },
  {
   "cell_type": "code",
   "execution_count": 12,
   "id": "99d01328",
   "metadata": {},
   "outputs": [],
   "source": [
    "X=df.drop([\"Outcome\"], axis=1)\n",
    "y=df[\"Outcome\"]"
   ]
  },
  {
   "attachments": {},
   "cell_type": "markdown",
   "id": "81e3d6e5",
   "metadata": {},
   "source": [
    "### Split the Data into train, validation and test data"
   ]
  },
  {
   "cell_type": "code",
   "execution_count": 13,
   "id": "ac9b83b0",
   "metadata": {},
   "outputs": [],
   "source": [
    "# Split the data as train and test datasets\n",
    "X_train, X_test, y_train, y_test = train_test_split(X, y, test_size=0.1, stratify=y, random_state=42)\n",
    "\n",
    "# Split the train data as train and validation datasets\n",
    "X_train, X_validation, y_train, y_validation = train_test_split(X_train, y_train, test_size=0.2, stratify=y_train, random_state=42)"
   ]
  },
  {
   "cell_type": "code",
   "execution_count": 14,
   "id": "c6494702",
   "metadata": {},
   "outputs": [
    {
     "data": {
      "text/plain": [
       "((518, 8), (130, 8), (72, 8))"
      ]
     },
     "execution_count": 14,
     "metadata": {},
     "output_type": "execute_result"
    }
   ],
   "source": [
    "# checking the shapes of datasets\n",
    "X_train.shape, X_validation.shape, X_test.shape"
   ]
  },
  {
   "cell_type": "code",
   "execution_count": 15,
   "id": "dadd9844",
   "metadata": {},
   "outputs": [
    {
     "data": {
      "text/plain": [
       "((518,), (130,), (72,))"
      ]
     },
     "execution_count": 15,
     "metadata": {},
     "output_type": "execute_result"
    }
   ],
   "source": [
    "# checking the shapes of datasets\n",
    "y_train.shape, y_validation.shape, y_test.shape"
   ]
  },
  {
   "cell_type": "code",
   "execution_count": 16,
   "id": "6d0b42ee",
   "metadata": {},
   "outputs": [],
   "source": [
    "# In Sagemaker the first column in train and validation datasets should be the target column.\n",
    "# Concat target column with train and validation data as first column.\n",
    "# No need to add target column in test datasets as it will be used to test the model performance after training.\n",
    "\n",
    "train = pd.concat([pd.Series(y_train, index = X_train.index, name=\"Outcome\"), X_train], axis=1)\n",
    "validation = pd.concat([pd.Series(y_validation, index = X_validation.index, name=\"Outcome\"), X_validation], axis=1)"
   ]
  },
  {
   "cell_type": "code",
   "execution_count": 17,
   "id": "d16f34d2",
   "metadata": {},
   "outputs": [
    {
     "data": {
      "text/html": [
       "<div>\n",
       "<style scoped>\n",
       "    .dataframe tbody tr th:only-of-type {\n",
       "        vertical-align: middle;\n",
       "    }\n",
       "\n",
       "    .dataframe tbody tr th {\n",
       "        vertical-align: top;\n",
       "    }\n",
       "\n",
       "    .dataframe thead th {\n",
       "        text-align: right;\n",
       "    }\n",
       "</style>\n",
       "<table border=\"1\" class=\"dataframe\">\n",
       "  <thead>\n",
       "    <tr style=\"text-align: right;\">\n",
       "      <th></th>\n",
       "      <th>Outcome</th>\n",
       "      <th>Pregnancies</th>\n",
       "      <th>Glucose</th>\n",
       "      <th>BloodPressure</th>\n",
       "      <th>SkinThickness</th>\n",
       "      <th>Insulin</th>\n",
       "      <th>BMI</th>\n",
       "      <th>DiabetesPedigreeFunction</th>\n",
       "      <th>Age</th>\n",
       "    </tr>\n",
       "  </thead>\n",
       "  <tbody>\n",
       "    <tr>\n",
       "      <th>56</th>\n",
       "      <td>1</td>\n",
       "      <td>7</td>\n",
       "      <td>187</td>\n",
       "      <td>68</td>\n",
       "      <td>39</td>\n",
       "      <td>304</td>\n",
       "      <td>37.7</td>\n",
       "      <td>0.254</td>\n",
       "      <td>41</td>\n",
       "    </tr>\n",
       "    <tr>\n",
       "      <th>641</th>\n",
       "      <td>0</td>\n",
       "      <td>4</td>\n",
       "      <td>128</td>\n",
       "      <td>70</td>\n",
       "      <td>0</td>\n",
       "      <td>0</td>\n",
       "      <td>34.3</td>\n",
       "      <td>0.303</td>\n",
       "      <td>24</td>\n",
       "    </tr>\n",
       "    <tr>\n",
       "      <th>32</th>\n",
       "      <td>0</td>\n",
       "      <td>3</td>\n",
       "      <td>88</td>\n",
       "      <td>58</td>\n",
       "      <td>11</td>\n",
       "      <td>54</td>\n",
       "      <td>24.8</td>\n",
       "      <td>0.267</td>\n",
       "      <td>22</td>\n",
       "    </tr>\n",
       "    <tr>\n",
       "      <th>503</th>\n",
       "      <td>0</td>\n",
       "      <td>7</td>\n",
       "      <td>94</td>\n",
       "      <td>64</td>\n",
       "      <td>25</td>\n",
       "      <td>79</td>\n",
       "      <td>33.3</td>\n",
       "      <td>0.738</td>\n",
       "      <td>41</td>\n",
       "    </tr>\n",
       "    <tr>\n",
       "      <th>732</th>\n",
       "      <td>1</td>\n",
       "      <td>2</td>\n",
       "      <td>174</td>\n",
       "      <td>88</td>\n",
       "      <td>37</td>\n",
       "      <td>120</td>\n",
       "      <td>44.5</td>\n",
       "      <td>0.646</td>\n",
       "      <td>24</td>\n",
       "    </tr>\n",
       "  </tbody>\n",
       "</table>\n",
       "</div>"
      ],
      "text/plain": [
       "     Outcome  Pregnancies  Glucose  BloodPressure  SkinThickness  Insulin  \\\n",
       "56         1            7      187             68             39      304   \n",
       "641        0            4      128             70              0        0   \n",
       "32         0            3       88             58             11       54   \n",
       "503        0            7       94             64             25       79   \n",
       "732        1            2      174             88             37      120   \n",
       "\n",
       "      BMI  DiabetesPedigreeFunction  Age  \n",
       "56   37.7                     0.254   41  \n",
       "641  34.3                     0.303   24  \n",
       "32   24.8                     0.267   22  \n",
       "503  33.3                     0.738   41  \n",
       "732  44.5                     0.646   24  "
      ]
     },
     "execution_count": 17,
     "metadata": {},
     "output_type": "execute_result"
    }
   ],
   "source": [
    "# Checking the first 5 sample of train dataset\n",
    "train.head()"
   ]
  },
  {
   "cell_type": "code",
   "execution_count": 18,
   "id": "6a0f3818",
   "metadata": {},
   "outputs": [
    {
     "data": {
      "text/html": [
       "<div>\n",
       "<style scoped>\n",
       "    .dataframe tbody tr th:only-of-type {\n",
       "        vertical-align: middle;\n",
       "    }\n",
       "\n",
       "    .dataframe tbody tr th {\n",
       "        vertical-align: top;\n",
       "    }\n",
       "\n",
       "    .dataframe thead th {\n",
       "        text-align: right;\n",
       "    }\n",
       "</style>\n",
       "<table border=\"1\" class=\"dataframe\">\n",
       "  <thead>\n",
       "    <tr style=\"text-align: right;\">\n",
       "      <th></th>\n",
       "      <th>Outcome</th>\n",
       "      <th>Pregnancies</th>\n",
       "      <th>Glucose</th>\n",
       "      <th>BloodPressure</th>\n",
       "      <th>SkinThickness</th>\n",
       "      <th>Insulin</th>\n",
       "      <th>BMI</th>\n",
       "      <th>DiabetesPedigreeFunction</th>\n",
       "      <th>Age</th>\n",
       "    </tr>\n",
       "  </thead>\n",
       "  <tbody>\n",
       "    <tr>\n",
       "      <th>16</th>\n",
       "      <td>1</td>\n",
       "      <td>0</td>\n",
       "      <td>118</td>\n",
       "      <td>84</td>\n",
       "      <td>47</td>\n",
       "      <td>230</td>\n",
       "      <td>45.8</td>\n",
       "      <td>0.551</td>\n",
       "      <td>31</td>\n",
       "    </tr>\n",
       "    <tr>\n",
       "      <th>313</th>\n",
       "      <td>0</td>\n",
       "      <td>3</td>\n",
       "      <td>113</td>\n",
       "      <td>50</td>\n",
       "      <td>10</td>\n",
       "      <td>85</td>\n",
       "      <td>29.5</td>\n",
       "      <td>0.626</td>\n",
       "      <td>25</td>\n",
       "    </tr>\n",
       "    <tr>\n",
       "      <th>118</th>\n",
       "      <td>0</td>\n",
       "      <td>4</td>\n",
       "      <td>97</td>\n",
       "      <td>60</td>\n",
       "      <td>23</td>\n",
       "      <td>0</td>\n",
       "      <td>28.2</td>\n",
       "      <td>0.443</td>\n",
       "      <td>22</td>\n",
       "    </tr>\n",
       "    <tr>\n",
       "      <th>584</th>\n",
       "      <td>1</td>\n",
       "      <td>8</td>\n",
       "      <td>124</td>\n",
       "      <td>76</td>\n",
       "      <td>24</td>\n",
       "      <td>600</td>\n",
       "      <td>28.7</td>\n",
       "      <td>0.687</td>\n",
       "      <td>52</td>\n",
       "    </tr>\n",
       "    <tr>\n",
       "      <th>614</th>\n",
       "      <td>1</td>\n",
       "      <td>11</td>\n",
       "      <td>138</td>\n",
       "      <td>74</td>\n",
       "      <td>26</td>\n",
       "      <td>144</td>\n",
       "      <td>36.1</td>\n",
       "      <td>0.557</td>\n",
       "      <td>50</td>\n",
       "    </tr>\n",
       "  </tbody>\n",
       "</table>\n",
       "</div>"
      ],
      "text/plain": [
       "     Outcome  Pregnancies  Glucose  BloodPressure  SkinThickness  Insulin  \\\n",
       "16         1            0      118             84             47      230   \n",
       "313        0            3      113             50             10       85   \n",
       "118        0            4       97             60             23        0   \n",
       "584        1            8      124             76             24      600   \n",
       "614        1           11      138             74             26      144   \n",
       "\n",
       "      BMI  DiabetesPedigreeFunction  Age  \n",
       "16   45.8                     0.551   31  \n",
       "313  29.5                     0.626   25  \n",
       "118  28.2                     0.443   22  \n",
       "584  28.7                     0.687   52  \n",
       "614  36.1                     0.557   50  "
      ]
     },
     "execution_count": 18,
     "metadata": {},
     "output_type": "execute_result"
    }
   ],
   "source": [
    "# Checking the first 5 sample of validation dataset\n",
    "validation.head()"
   ]
  },
  {
   "cell_type": "code",
   "execution_count": 19,
   "id": "7bfa5a23",
   "metadata": {},
   "outputs": [
    {
     "data": {
      "text/plain": [
       "((518, 9), (130, 9))"
      ]
     },
     "execution_count": 19,
     "metadata": {},
     "output_type": "execute_result"
    }
   ],
   "source": [
    "# checking the shapes of datasets\n",
    "train.shape, validation.shape"
   ]
  },
  {
   "cell_type": "code",
   "execution_count": 20,
   "id": "298d53df",
   "metadata": {},
   "outputs": [],
   "source": [
    "# Save the train and validation datasets as csv file in order to load them into AWS S3 bucket.\n",
    "# Where did we save these csv files?\n",
    "\n",
    "train.to_csv('train.csv', index=False, header=False)\n",
    "validation.to_csv('validation.csv', index=False, header=False)"
   ]
  },
  {
   "attachments": {},
   "cell_type": "markdown",
   "id": "fcd29e8b",
   "metadata": {},
   "source": [
    "### Saving train and validation csv files into S3 bucket"
   ]
  },
  {
   "attachments": {},
   "cell_type": "markdown",
   "id": "ca98a53c",
   "metadata": {},
   "source": [
    "https://github.com/aws/sagemaker-python-sdk"
   ]
  },
  {
   "cell_type": "code",
   "execution_count": 21,
   "id": "bf7fbd48",
   "metadata": {},
   "outputs": [],
   "source": [
    "# Import sagemaker and boto3 libraries.\n",
    "# SageMaker Python SDK is an open source library for training and deploying machine learning models on Amazon SageMaker using Python scripts.\n",
    "# Boto3 is the name of the Python SDK for AWS.\n",
    "# It allows you to directly create, update, and delete AWS resources from your Python scripts.\n",
    "\n",
    "import sagemaker, boto3"
   ]
  },
  {
   "cell_type": "code",
   "execution_count": 24,
   "id": "87b3444f",
   "metadata": {},
   "outputs": [],
   "source": [
    "bucket = 'hillary-test'  # S3 bucket name that we have already created in AWS. You can copy it from AWS S3 service and paste here.\n",
    "prefix = 'sagemaker-diabetes'  # Folder name that we will create for saving our datasets."
   ]
  },
  {
   "cell_type": "code",
   "execution_count": 25,
   "id": "794d6797",
   "metadata": {},
   "outputs": [],
   "source": [
    "# Loading train and validation datasets into S3 bucket.\n",
    "boto3.Session().resource('s3').Bucket(bucket).Object(prefix + '/data/train.csv').upload_file('train.csv')\n",
    "boto3.Session().resource('s3').Bucket(bucket).Object(prefix + '/data/validation.csv').upload_file('validation.csv')"
   ]
  },
  {
   "cell_type": "code",
   "execution_count": 26,
   "id": "971ab6ce",
   "metadata": {},
   "outputs": [
    {
     "name": "stdout",
     "output_type": "stream",
     "text": [
      "2023-03-28 08:21:45      15758 sagemaker-diabetes/data/train.csv\r\n",
      "2023-03-28 08:21:45       3942 sagemaker-diabetes/data/validation.csv\r\n"
     ]
    }
   ],
   "source": [
    "# Checking the datasets in AWS S3 bucket by listing\n",
    "# We can check them also from AWS S3 console.\n",
    "\n",
    "! aws s3 ls {bucket}/{prefix}/data --recursive"
   ]
  },
  {
   "attachments": {},
   "cell_type": "markdown",
   "id": "a07074d7",
   "metadata": {},
   "source": [
    "## Built and Train the Model"
   ]
  },
  {
   "cell_type": "code",
   "execution_count": 26,
   "id": "2ce100f6",
   "metadata": {},
   "outputs": [],
   "source": [
    "# %pip instasll --upgrade boto3  # if the following code raise an error, run this before then restart the kernel."
   ]
  },
  {
   "cell_type": "code",
   "execution_count": 27,
   "id": "80aa13cc",
   "metadata": {},
   "outputs": [
    {
     "name": "stdout",
     "output_type": "stream",
     "text": [
      "AWS Region: us-east-1\n",
      "RoleArn:arn:aws:iam::046402772087:role/service-role/AmazonSageMaker-ExecutionRole-20230307T112272\n"
     ]
    }
   ],
   "source": [
    "# Defining the region and role variables which will be used for the connection to the AWS. \n",
    "region = sagemaker.Session().boto_region_name  # region = boto3.Session().region_name\n",
    "print(\"AWS Region: {}\".format(region))\n",
    "\n",
    "role = sagemaker.get_execution_role()\n",
    "print(\"RoleArn:{}\".format(role))"
   ]
  },
  {
   "cell_type": "code",
   "execution_count": 28,
   "id": "760e8072",
   "metadata": {},
   "outputs": [
    {
     "data": {
      "text/plain": [
       "'s3://hillary-test/sagemaker-diabetes/output'"
      ]
     },
     "execution_count": 28,
     "metadata": {},
     "output_type": "execute_result"
    }
   ],
   "source": [
    "# Defining output path in which outputs will be loaded during model training.\n",
    "\n",
    "s3_output_location = 's3://{}/{}/{}'.format(bucket, prefix, 'output') \n",
    "s3_output_location"
   ]
  },
  {
   "cell_type": "code",
   "execution_count": 29,
   "id": "7e223ac0",
   "metadata": {},
   "outputs": [
    {
     "name": "stdout",
     "output_type": "stream",
     "text": [
      "811284229777.dkr.ecr.us-east-1.amazonaws.com/xgboost:latest\n"
     ]
    }
   ],
   "source": [
    "# Defining built-in algorithm name and version which we will use for model creation.\n",
    "container = sagemaker.image_uris.retrieve(\"xgboost\", region, version=\"latest\")\n",
    "print(container)"
   ]
  },
  {
   "cell_type": "code",
   "execution_count": 83,
   "id": "728df8af",
   "metadata": {},
   "outputs": [],
   "source": [
    "# for a specific version i.e. xgboost version 1.2-2\n",
    "# container = sagemaker.image_uris.retrieve(\"xgboost\", region, version=\"1.2-2\")\n",
    "# print(container)"
   ]
  },
  {
   "cell_type": "code",
   "execution_count": 30,
   "id": "5c49331e",
   "metadata": {},
   "outputs": [],
   "source": [
    "# Model creation using sagemaker estimator function\n",
    "\n",
    "xgb_model = sagemaker.estimator.Estimator(container,  # model algorithm\n",
    "                                          role,  # role to connect AWS\n",
    "                                          base_job_name=\"hillary-xgboost-test\",  # training job name (if it is none, sagemaker gives a name automatically)\n",
    "                                          instance_count=1,  # the number of EC2 that will be used for training\n",
    "                                          instance_type='ml.m4.xlarge', # type of EC2\n",
    "                                          volume_size = 1,  # EC2 EBS volume size\n",
    "                                          output_path = s3_output_location,  # output path in which training outputs will be saved\n",
    "                                          sagemaker_session=sagemaker.Session(),  # sagemaker session for training job\n",
    "                                          )"
   ]
  },
  {
   "cell_type": "code",
   "execution_count": 31,
   "id": "accfd5c7",
   "metadata": {},
   "outputs": [],
   "source": [
    "# Setting the model hyperparameters\n",
    "xgb_model.set_hyperparameters(max_depth=2,\n",
    "                              eta=0.2,\n",
    "                              scale_pos_weight= 1.9149797570850202,  # it is the ratio of number of the class zero to the class one\n",
    "                              num_round=100,\n",
    "                              objective = 'binary:logistic',  # objective = \"reg:logistic\"\n",
    "                              early_stopping_rounds=10)"
   ]
  },
  {
   "cell_type": "code",
   "execution_count": 32,
   "id": "2f1c2882",
   "metadata": {},
   "outputs": [],
   "source": [
    "# Import training input method which will be used to prepare train and validation data before model training\n",
    "from sagemaker.session import TrainingInput\n",
    "\n",
    "# Preparing train and validation data for model training \n",
    "train_input = TrainingInput('s3://{}/{}/{}'.format(bucket, prefix, 'data/train.csv'), content_type='csv')\n",
    "validation_input = TrainingInput('s3://{}/{}/{}'.format(bucket, prefix, 'data/validation.csv'), content_type='csv')"
   ]
  },
  {
   "cell_type": "code",
   "execution_count": 33,
   "id": "ce91bb5e",
   "metadata": {},
   "outputs": [],
   "source": [
    "# Convert the data we prepared into dictionary format for model training\n",
    "data_channels = {'train': train_input, 'validation': validation_input}"
   ]
  },
  {
   "cell_type": "code",
   "execution_count": 34,
   "id": "51c93da7",
   "metadata": {},
   "outputs": [
    {
     "name": "stderr",
     "output_type": "stream",
     "text": [
      "INFO:sagemaker:Creating training-job with name: hillary-xgboost-test-2023-03-28-08-26-34-415\n"
     ]
    },
    {
     "name": "stdout",
     "output_type": "stream",
     "text": [
      "2023-03-28 08:26:34 Starting - Starting the training job...\n",
      "2023-03-28 08:27:00 Starting - Preparing the instances for training.........\n",
      "2023-03-28 08:28:20 Downloading - Downloading input data...\n",
      "2023-03-28 08:28:45 Training - Downloading the training image...\n",
      "2023-03-28 08:29:21 Training - Training image download completed. Training in progress..\u001b[34mArguments: train\u001b[0m\n",
      "\u001b[34m[2023-03-28:08:29:35:INFO] Running standalone xgboost training.\u001b[0m\n",
      "\u001b[34m[2023-03-28:08:29:35:INFO] File size need to be processed in the node: 0.02mb. Available memory size in the node: 8600.49mb\u001b[0m\n",
      "\u001b[34m[2023-03-28:08:29:35:INFO] Determined delimiter of CSV input is ','\u001b[0m\n",
      "\u001b[34m[08:29:35] S3DistributionType set as FullyReplicated\u001b[0m\n",
      "\u001b[34m[08:29:35] 518x8 matrix with 4144 entries loaded from /opt/ml/input/data/train?format=csv&label_column=0&delimiter=,\u001b[0m\n",
      "\u001b[34m[2023-03-28:08:29:35:INFO] Determined delimiter of CSV input is ','\u001b[0m\n",
      "\u001b[34m[08:29:35] S3DistributionType set as FullyReplicated\u001b[0m\n",
      "\u001b[34m[08:29:35] 130x8 matrix with 1040 entries loaded from /opt/ml/input/data/validation?format=csv&label_column=0&delimiter=,\u001b[0m\n",
      "\u001b[34m[08:29:35] src/tree/updater_prune.cc:74: tree pruning end, 1 roots, 6 extra nodes, 0 pruned nodes, max_depth=2\u001b[0m\n",
      "\u001b[34m[0]#011train-error:0.223938#011validation-error:0.246154\u001b[0m\n",
      "\u001b[34mMultiple eval metrics have been passed: 'validation-error' will be used for early stopping.\u001b[0m\n",
      "\u001b[34mWill train until validation-error hasn't improved in 10 rounds.\u001b[0m\n",
      "\u001b[34m[08:29:35] src/tree/updater_prune.cc:74: tree pruning end, 1 roots, 6 extra nodes, 0 pruned nodes, max_depth=2\u001b[0m\n",
      "\u001b[34m[1]#011train-error:0.225869#011validation-error:0.246154\u001b[0m\n",
      "\u001b[34m[08:29:35] src/tree/updater_prune.cc:74: tree pruning end, 1 roots, 6 extra nodes, 0 pruned nodes, max_depth=2\u001b[0m\n",
      "\u001b[34m[2]#011train-error:0.225869#011validation-error:0.246154\u001b[0m\n",
      "\u001b[34m[08:29:35] src/tree/updater_prune.cc:74: tree pruning end, 1 roots, 6 extra nodes, 0 pruned nodes, max_depth=2\u001b[0m\n",
      "\u001b[34m[3]#011train-error:0.208494#011validation-error:0.246154\u001b[0m\n",
      "\u001b[34m[08:29:35] src/tree/updater_prune.cc:74: tree pruning end, 1 roots, 6 extra nodes, 0 pruned nodes, max_depth=2\u001b[0m\n",
      "\u001b[34m[4]#011train-error:0.206564#011validation-error:0.253846\u001b[0m\n",
      "\u001b[34m[08:29:35] src/tree/updater_prune.cc:74: tree pruning end, 1 roots, 6 extra nodes, 0 pruned nodes, max_depth=2\u001b[0m\n",
      "\u001b[34m[5]#011train-error:0.204633#011validation-error:0.253846\u001b[0m\n",
      "\u001b[34m[08:29:35] src/tree/updater_prune.cc:74: tree pruning end, 1 roots, 6 extra nodes, 0 pruned nodes, max_depth=2\u001b[0m\n",
      "\u001b[34m[6]#011train-error:0.204633#011validation-error:0.246154\u001b[0m\n",
      "\u001b[34m[08:29:35] src/tree/updater_prune.cc:74: tree pruning end, 1 roots, 6 extra nodes, 0 pruned nodes, max_depth=2\u001b[0m\n",
      "\u001b[34m[7]#011train-error:0.202703#011validation-error:0.223077\u001b[0m\n",
      "\u001b[34m[08:29:35] src/tree/updater_prune.cc:74: tree pruning end, 1 roots, 6 extra nodes, 0 pruned nodes, max_depth=2\u001b[0m\n",
      "\u001b[34m[8]#011train-error:0.194981#011validation-error:0.223077\u001b[0m\n",
      "\u001b[34m[08:29:35] src/tree/updater_prune.cc:74: tree pruning end, 1 roots, 6 extra nodes, 0 pruned nodes, max_depth=2\u001b[0m\n",
      "\u001b[34m[9]#011train-error:0.194981#011validation-error:0.223077\u001b[0m\n",
      "\u001b[34m[08:29:35] src/tree/updater_prune.cc:74: tree pruning end, 1 roots, 6 extra nodes, 0 pruned nodes, max_depth=2\u001b[0m\n",
      "\u001b[34m[10]#011train-error:0.198842#011validation-error:0.230769\u001b[0m\n",
      "\u001b[34m[08:29:35] src/tree/updater_prune.cc:74: tree pruning end, 1 roots, 6 extra nodes, 0 pruned nodes, max_depth=2\u001b[0m\n",
      "\u001b[34m[11]#011train-error:0.198842#011validation-error:0.230769\u001b[0m\n",
      "\u001b[34m[08:29:35] src/tree/updater_prune.cc:74: tree pruning end, 1 roots, 6 extra nodes, 0 pruned nodes, max_depth=2\u001b[0m\n",
      "\u001b[34m[12]#011train-error:0.198842#011validation-error:0.230769\u001b[0m\n",
      "\u001b[34m[08:29:35] src/tree/updater_prune.cc:74: tree pruning end, 1 roots, 6 extra nodes, 0 pruned nodes, max_depth=2\u001b[0m\n",
      "\u001b[34m[13]#011train-error:0.196911#011validation-error:0.223077\u001b[0m\n",
      "\u001b[34m[08:29:35] src/tree/updater_prune.cc:74: tree pruning end, 1 roots, 6 extra nodes, 0 pruned nodes, max_depth=2\u001b[0m\n",
      "\u001b[34m[14]#011train-error:0.187259#011validation-error:0.215385\u001b[0m\n",
      "\u001b[34m[08:29:35] src/tree/updater_prune.cc:74: tree pruning end, 1 roots, 6 extra nodes, 0 pruned nodes, max_depth=2\u001b[0m\n",
      "\u001b[34m[15]#011train-error:0.196911#011validation-error:0.223077\u001b[0m\n",
      "\u001b[34m[08:29:35] src/tree/updater_prune.cc:74: tree pruning end, 1 roots, 6 extra nodes, 0 pruned nodes, max_depth=2\u001b[0m\n",
      "\u001b[34m[16]#011train-error:0.189189#011validation-error:0.223077\u001b[0m\n",
      "\u001b[34m[08:29:35] src/tree/updater_prune.cc:74: tree pruning end, 1 roots, 6 extra nodes, 0 pruned nodes, max_depth=2\u001b[0m\n",
      "\u001b[34m[17]#011train-error:0.19112#011validation-error:0.230769\u001b[0m\n",
      "\u001b[34m[08:29:35] src/tree/updater_prune.cc:74: tree pruning end, 1 roots, 6 extra nodes, 0 pruned nodes, max_depth=2\u001b[0m\n",
      "\u001b[34m[18]#011train-error:0.19112#011validation-error:0.223077\u001b[0m\n",
      "\u001b[34m[08:29:35] src/tree/updater_prune.cc:74: tree pruning end, 1 roots, 6 extra nodes, 0 pruned nodes, max_depth=2\u001b[0m\n",
      "\u001b[34m[19]#011train-error:0.189189#011validation-error:0.223077\u001b[0m\n",
      "\u001b[34m[08:29:35] src/tree/updater_prune.cc:74: tree pruning end, 1 roots, 6 extra nodes, 0 pruned nodes, max_depth=2\u001b[0m\n",
      "\u001b[34m[20]#011train-error:0.19112#011validation-error:0.230769\u001b[0m\n",
      "\u001b[34m[21]#011train-error:0.19112#011validation-error:0.230769\u001b[0m\n",
      "\u001b[34m[08:29:35] src/tree/updater_prune.cc:74: tree pruning end, 1 roots, 6 extra nodes, 0 pruned nodes, max_depth=2\u001b[0m\n",
      "\u001b[34m[08:29:35] src/tree/updater_prune.cc:74: tree pruning end, 1 roots, 6 extra nodes, 0 pruned nodes, max_depth=2\u001b[0m\n",
      "\u001b[34m[22]#011train-error:0.183398#011validation-error:0.230769\u001b[0m\n",
      "\u001b[34m[08:29:35] src/tree/updater_prune.cc:74: tree pruning end, 1 roots, 6 extra nodes, 0 pruned nodes, max_depth=2\u001b[0m\n",
      "\u001b[34m[23]#011train-error:0.181467#011validation-error:0.223077\u001b[0m\n",
      "\u001b[34m[08:29:35] src/tree/updater_prune.cc:74: tree pruning end, 1 roots, 4 extra nodes, 0 pruned nodes, max_depth=2\u001b[0m\n",
      "\u001b[34m[24]#011train-error:0.179537#011validation-error:0.223077\u001b[0m\n",
      "\u001b[34mStopping. Best iteration:\u001b[0m\n",
      "\u001b[34m[14]#011train-error:0.187259#011validation-error:0.215385\u001b[0m\n",
      "\n",
      "2023-03-28 08:29:52 Uploading - Uploading generated training model\n",
      "2023-03-28 08:29:52 Completed - Training job completed\n",
      "Training seconds: 92\n",
      "Billable seconds: 92\n"
     ]
    }
   ],
   "source": [
    "# Model training with data_channels. At this step training jobs will be created.\n",
    "xgb_model.fit(data_channels)\n",
    "\n",
    "# Let's check whether training job is created or not from AWS console.\n",
    "\n",
    "# Let's check whether the output(model.tar.gz) occurs when training job is completed."
   ]
  },
  {
   "attachments": {},
   "cell_type": "markdown",
   "id": "6f85e25c",
   "metadata": {},
   "source": [
    "## Create Endpoint"
   ]
  },
  {
   "cell_type": "code",
   "execution_count": 35,
   "id": "10259ff9",
   "metadata": {},
   "outputs": [
    {
     "name": "stderr",
     "output_type": "stream",
     "text": [
      "INFO:sagemaker:Creating model with name: hillary-xgboost-test-2023-03-28-08-34-55-639\n",
      "INFO:sagemaker:Creating endpoint-config with name hillary-xgboost-test-2023-03-28-08-34-55-639\n",
      "INFO:sagemaker:Creating endpoint with name hillary-xgboost-test-2023-03-28-08-34-55-639\n"
     ]
    },
    {
     "name": "stdout",
     "output_type": "stream",
     "text": [
      "------!"
     ]
    }
   ],
   "source": [
    "# CSVSerializer : Serialize data of various formats to a CSV-formatted string\n",
    "\n",
    "from sagemaker.serializers import CSVSerializer\n",
    "\n",
    "# Deploy the trained model into an endpoint\n",
    "# At this step an endpoint will be created\n",
    "predictor = xgb_model.deploy(initial_instance_count=1,  # the number of EC2 for endpoint\n",
    "                            instance_type='ml.m5.xlarge',  # type of EC2\n",
    "                            serializer = CSVSerializer())  # data format for prediction\n",
    "\n",
    "# Let's check whether endpoint is created."
   ]
  },
  {
   "cell_type": "code",
   "execution_count": 36,
   "id": "f77c1c23",
   "metadata": {},
   "outputs": [
    {
     "data": {
      "text/plain": [
       "'hillary-xgboost-test-2023-03-28-08-34-55-639'"
      ]
     },
     "execution_count": 36,
     "metadata": {},
     "output_type": "execute_result"
    }
   ],
   "source": [
    "# The name of the  endpoint we created\n",
    "\n",
    "endpoint_name = predictor.endpoint_name  # alternatively we can define endpoint name manually: endpoint_name = 'sagemaker-xgboost-2023-01-04-04-05-36-670'\n",
    "endpoint_name"
   ]
  },
  {
   "attachments": {},
   "cell_type": "markdown",
   "id": "8ad4d764",
   "metadata": {},
   "source": [
    "# Prediction using Endpoint Name"
   ]
  },
  {
   "cell_type": "code",
   "execution_count": 37,
   "id": "020bc149",
   "metadata": {},
   "outputs": [
    {
     "data": {
      "text/html": [
       "<div>\n",
       "<style scoped>\n",
       "    .dataframe tbody tr th:only-of-type {\n",
       "        vertical-align: middle;\n",
       "    }\n",
       "\n",
       "    .dataframe tbody tr th {\n",
       "        vertical-align: top;\n",
       "    }\n",
       "\n",
       "    .dataframe thead th {\n",
       "        text-align: right;\n",
       "    }\n",
       "</style>\n",
       "<table border=\"1\" class=\"dataframe\">\n",
       "  <thead>\n",
       "    <tr style=\"text-align: right;\">\n",
       "      <th></th>\n",
       "      <th>Pregnancies</th>\n",
       "      <th>Glucose</th>\n",
       "      <th>BloodPressure</th>\n",
       "      <th>SkinThickness</th>\n",
       "      <th>Insulin</th>\n",
       "      <th>BMI</th>\n",
       "      <th>DiabetesPedigreeFunction</th>\n",
       "      <th>Age</th>\n",
       "    </tr>\n",
       "  </thead>\n",
       "  <tbody>\n",
       "    <tr>\n",
       "      <th>198</th>\n",
       "      <td>4</td>\n",
       "      <td>109</td>\n",
       "      <td>64</td>\n",
       "      <td>44</td>\n",
       "      <td>99</td>\n",
       "      <td>34.8</td>\n",
       "      <td>0.905</td>\n",
       "      <td>26</td>\n",
       "    </tr>\n",
       "    <tr>\n",
       "      <th>598</th>\n",
       "      <td>1</td>\n",
       "      <td>173</td>\n",
       "      <td>74</td>\n",
       "      <td>0</td>\n",
       "      <td>0</td>\n",
       "      <td>36.8</td>\n",
       "      <td>0.088</td>\n",
       "      <td>38</td>\n",
       "    </tr>\n",
       "    <tr>\n",
       "      <th>102</th>\n",
       "      <td>0</td>\n",
       "      <td>125</td>\n",
       "      <td>96</td>\n",
       "      <td>0</td>\n",
       "      <td>0</td>\n",
       "      <td>22.5</td>\n",
       "      <td>0.262</td>\n",
       "      <td>21</td>\n",
       "    </tr>\n",
       "    <tr>\n",
       "      <th>226</th>\n",
       "      <td>0</td>\n",
       "      <td>101</td>\n",
       "      <td>76</td>\n",
       "      <td>0</td>\n",
       "      <td>0</td>\n",
       "      <td>35.7</td>\n",
       "      <td>0.198</td>\n",
       "      <td>26</td>\n",
       "    </tr>\n",
       "    <tr>\n",
       "      <th>585</th>\n",
       "      <td>1</td>\n",
       "      <td>93</td>\n",
       "      <td>56</td>\n",
       "      <td>11</td>\n",
       "      <td>0</td>\n",
       "      <td>22.5</td>\n",
       "      <td>0.417</td>\n",
       "      <td>22</td>\n",
       "    </tr>\n",
       "  </tbody>\n",
       "</table>\n",
       "</div>"
      ],
      "text/plain": [
       "     Pregnancies  Glucose  BloodPressure  SkinThickness  Insulin   BMI  \\\n",
       "198            4      109             64             44       99  34.8   \n",
       "598            1      173             74              0        0  36.8   \n",
       "102            0      125             96              0        0  22.5   \n",
       "226            0      101             76              0        0  35.7   \n",
       "585            1       93             56             11        0  22.5   \n",
       "\n",
       "     DiabetesPedigreeFunction  Age  \n",
       "198                     0.905   26  \n",
       "598                     0.088   38  \n",
       "102                     0.262   21  \n",
       "226                     0.198   26  \n",
       "585                     0.417   22  "
      ]
     },
     "execution_count": 37,
     "metadata": {},
     "output_type": "execute_result"
    }
   ],
   "source": [
    "X_test.head()"
   ]
  },
  {
   "cell_type": "code",
   "execution_count": 38,
   "id": "7b18aff9",
   "metadata": {},
   "outputs": [],
   "source": [
    "# Saving test data as csv file for prediction\n",
    "X_test.to_csv('test.csv', index=False, header=False)  # without target variable"
   ]
  },
  {
   "cell_type": "code",
   "execution_count": 39,
   "id": "be95adab",
   "metadata": {},
   "outputs": [],
   "source": [
    "# Reading and preparing the test data as payload for prediction\n",
    "with open('test.csv', 'r') as f:\n",
    "    payload = f.read().strip('\\n')"
   ]
  },
  {
   "cell_type": "code",
   "execution_count": 40,
   "id": "0ee972c4",
   "metadata": {},
   "outputs": [
    {
     "data": {
      "text/plain": [
       "'4,109,64,44,99,34.8,0.905,26\\n1,173,74,0,0,36.8,0.088,38\\n0,125,96,0,0,22.5,0.262,21\\n0,101,76,0,0,35.7,0.198,26\\n1,93,56,11,0,22.5,0.417,22\\n2,108,80,0,0,27.0,0.259,52\\n2,108,64,0,0,30.8,0.158,21\\n6,125,78,31,0,27.6,0.565,49\\n1,157,72,21,168,25.6,0.123,24\\n1,83,68,0,0,18.2,0.624,27\\n1,124,60,32,0,35.8,0.514,21\\n13,158,114,0,0,42.3,0.257,44\\n4,134,72,0,0,23.8,0.277,60\\n2,100,66,20,90,32.9,0.867,28\\n4,123,80,15,176,32.0,0.443,34\\n4,84,90,23,56,39.5,0.159,25\\n9,72,78,25,0,31.6,0.28,38\\n4,83,86,19,0,29.3,0.317,34\\n8,154,78,32,0,32.4,0.443,45\\n10,179,70,0,0,35.1,0.2,37\\n4,115,72,0,0,28.9,0.376,46\\n2,95,54,14,88,26.1,0.748,22\\n2,114,68,22,0,28.7,0.092,25\\n11,85,74,0,0,30.1,0.3,35\\n2,112,75,32,0,35.7,0.148,21\\n8,143,66,0,0,34.9,0.129,41\\n0,139,62,17,210,22.1,0.207,21\\n1,90,68,8,0,24.5,1.138,36\\n4,110,66,0,0,31.9,0.471,29\\n2,100,64,23,0,29.7,0.368,21\\n13,106,70,0,0,34.2,0.251,52\\n7,181,84,21,192,35.9,0.586,51\\n3,187,70,22,200,36.4,0.408,36\\n0,126,84,29,215,30.7,0.52,24\\n11,155,76,28,150,33.3,1.353,51\\n2,83,65,28,66,36.8,0.629,24\\n6,80,80,36,0,39.8,0.177,28\\n8,118,72,19,0,23.1,1.476,46\\n10,133,68,0,0,27.0,0.245,36\\n10,101,76,48,180,32.9,0.171,63\\n7,107,74,0,0,29.6,0.254,31\\n6,98,58,33,190,34.0,0.43,43\\n2,71,70,27,0,28.0,0.586,22\\n1,102,74,0,0,39.5,0.293,42\\n4,96,56,17,49,20.8,0.34,26\\n7,142,90,24,480,30.4,0.128,43\\n7,160,54,32,175,30.5,0.588,39\\n10,90,85,32,0,34.9,0.825,56\\n6,154,78,41,140,46.1,0.571,27\\n1,107,68,19,0,26.5,0.165,24\\n2,106,64,35,119,30.5,1.4,34\\n5,111,72,28,0,23.9,0.407,27\\n3,191,68,15,130,30.9,0.299,34\\n1,119,86,39,220,45.6,0.808,29\\n4,171,72,0,0,43.6,0.479,26\\n8,74,70,40,49,35.3,0.705,39\\n3,81,86,16,66,27.5,0.306,22\\n7,103,66,32,0,39.1,0.344,31\\n2,92,62,28,0,31.6,0.13,24\\n3,102,44,20,94,30.8,0.4,26\\n1,93,70,31,0,30.4,0.315,23\\n11,103,68,40,0,46.2,0.126,42\\n2,107,74,30,100,33.6,0.404,23\\n1,199,76,43,0,42.9,1.394,22\\n6,85,78,0,0,31.2,0.382,42\\n2,155,52,27,540,38.7,0.24,25\\n1,97,64,19,82,18.2,0.299,21\\n13,76,60,0,0,32.8,0.18,41\\n1,146,56,0,0,29.7,0.564,29\\n9,122,56,0,0,33.3,1.114,33\\n2,83,66,23,50,32.2,0.497,22\\n7,114,64,0,0,27.4,0.732,34'"
      ]
     },
     "execution_count": 40,
     "metadata": {},
     "output_type": "execute_result"
    }
   ],
   "source": [
    "# checking the content of payload\n",
    "payload"
   ]
  },
  {
   "cell_type": "code",
   "execution_count": 41,
   "id": "1269a5af",
   "metadata": {},
   "outputs": [
    {
     "name": "stderr",
     "output_type": "stream",
     "text": [
      "INFO:botocore.credentials:Found credentials from IAM Role: BaseNotebookInstanceEc2InstanceRole\n"
     ]
    }
   ],
   "source": [
    "# Create sagemaker runtime object to send request to endpoint and get response\n",
    "\n",
    "sagemaker_runtime = boto3.client(\"sagemaker-runtime\", region_name=boto3.Session().region_name)\n",
    "\n",
    "# Invoke endpoint to get prediction results\n",
    "response = sagemaker_runtime.invoke_endpoint(  \n",
    "                            EndpointName=endpoint_name,  # endpoint name we created (should be unique)\n",
    "                            Body=payload, # prediction data\n",
    "                            ContentType = 'text/csv')  # type of data\n",
    "\n",
    "# Optional - to see prediction result\n",
    "# print(response['Body'].read().decode('utf-8'))"
   ]
  },
  {
   "cell_type": "code",
   "execution_count": 42,
   "id": "25917ae8",
   "metadata": {},
   "outputs": [
    {
     "data": {
      "text/plain": [
       "{'ResponseMetadata': {'RequestId': 'd203b587-c8c3-410a-974b-17a5e31edaff',\n",
       "  'HTTPStatusCode': 200,\n",
       "  'HTTPHeaders': {'x-amzn-requestid': 'd203b587-c8c3-410a-974b-17a5e31edaff',\n",
       "   'x-amzn-invoked-production-variant': 'AllTraffic',\n",
       "   'date': 'Tue, 28 Mar 2023 08:42:53 GMT',\n",
       "   'content-type': 'text/csv; charset=utf-8',\n",
       "   'content-length': '1393'},\n",
       "  'RetryAttempts': 0},\n",
       " 'ContentType': 'text/csv; charset=utf-8',\n",
       " 'InvokedProductionVariant': 'AllTraffic',\n",
       " 'Body': <botocore.response.StreamingBody at 0x7f28791c0400>}"
      ]
     },
     "execution_count": 42,
     "metadata": {},
     "output_type": "execute_result"
    }
   ],
   "source": [
    "# The prediction result is in json format and \"Body\" key contains the prediction values.\n",
    "response"
   ]
  },
  {
   "cell_type": "code",
   "execution_count": 43,
   "id": "dd6b25c8",
   "metadata": {},
   "outputs": [
    {
     "data": {
      "text/plain": [
       "'0.3873826861381531,0.8133384585380554,0.11451607197523117,0.15497027337551117,0.06449843943119049,0.2610611915588379,0.2995612323284149,0.5149786472320557,0.5817204713821411,0.06449843943119049,0.4646185040473938,0.8526740074157715,0.22952598333358765,0.18755793571472168,0.6740153431892395,0.15497027337551117,0.3418002724647522,0.29272186756134033,0.751653790473938,0.8304170966148376,0.5172712802886963,0.06449843943119049,0.2591714859008789,0.43561118841171265,0.2995612323284149,0.6726301312446594,0.14202702045440674,0.10040055215358734,0.48345714807510376,0.17069615423679352,0.5477213859558105,0.8809031248092651,0.8683291077613831,0.4646185040473938,0.8777631521224976,0.18755793571472168,0.15497027337551117,0.3063046336174011,0.35644543170928955,0.5970978140830994,0.4685020446777344,0.5415210723876953,0.18755793571472168,0.3992386758327484,0.07767873257398605,0.6776959300041199,0.8809031248092651,0.3948822319507599,0.7220278382301331,0.17889441549777985,0.5938748121261597,0.15874794125556946,0.8488214015960693,0.5879572033882141,0.8633641004562378,0.3948822319507599,0.12243346124887466,0.5224418640136719,0.15497027337551117,0.30310457944869995,0.15497027337551117,0.5247613787651062,0.36052829027175903,0.8763446807861328,0.29272186756134033,0.7242174744606018,0.05787356197834015,0.4078899323940277,0.5661706328392029,0.67378830909729,0.17069615423679352,0.4793757200241089'"
      ]
     },
     "execution_count": 43,
     "metadata": {},
     "output_type": "execute_result"
    }
   ],
   "source": [
    "# prediction results\n",
    "results = response['Body'].read().decode('utf-8')\n",
    "results"
   ]
  },
  {
   "cell_type": "code",
   "execution_count": 44,
   "id": "b4f7b5dd",
   "metadata": {},
   "outputs": [
    {
     "data": {
      "text/plain": [
       "array([0.38738269, 0.81333846, 0.11451607, 0.15497027, 0.06449844,\n",
       "       0.26106119, 0.29956123, 0.51497865, 0.58172047, 0.06449844,\n",
       "       0.4646185 , 0.85267401, 0.22952598, 0.18755794, 0.67401534,\n",
       "       0.15497027, 0.34180027, 0.29272187, 0.75165379, 0.8304171 ,\n",
       "       0.51727128, 0.06449844, 0.25917149, 0.43561119, 0.29956123,\n",
       "       0.67263013, 0.14202702, 0.10040055, 0.48345715, 0.17069615,\n",
       "       0.54772139, 0.88090312, 0.86832911, 0.4646185 , 0.87776315,\n",
       "       0.18755794, 0.15497027, 0.30630463, 0.35644543, 0.59709781,\n",
       "       0.46850204, 0.54152107, 0.18755794, 0.39923868, 0.07767873,\n",
       "       0.67769593, 0.88090312, 0.39488223, 0.72202784, 0.17889442,\n",
       "       0.59387481, 0.15874794, 0.8488214 , 0.5879572 , 0.8633641 ,\n",
       "       0.39488223, 0.12243346, 0.52244186, 0.15497027, 0.30310458,\n",
       "       0.15497027, 0.52476138, 0.36052829, 0.87634468, 0.29272187,\n",
       "       0.72421747, 0.05787356, 0.40788993, 0.56617063, 0.67378831,\n",
       "       0.17069615, 0.47937572])"
      ]
     },
     "execution_count": 44,
     "metadata": {},
     "output_type": "execute_result"
    }
   ],
   "source": [
    "# prediction results(probability values) as numpy array\n",
    "results = np.fromstring(results, sep=',') # sep=',' or '\\n' or ' ' can be used. \n",
    "results"
   ]
  },
  {
   "cell_type": "code",
   "execution_count": 45,
   "id": "e2a993eb",
   "metadata": {},
   "outputs": [
    {
     "data": {
      "text/plain": [
       "array([0., 1., 0., 0., 0., 0., 0., 1., 1., 0., 0., 1., 0., 0., 1., 0., 0.,\n",
       "       0., 1., 1., 1., 0., 0., 0., 0., 1., 0., 0., 0., 0., 1., 1., 1., 0.,\n",
       "       1., 0., 0., 0., 0., 1., 0., 1., 0., 0., 0., 1., 1., 0., 1., 0., 1.,\n",
       "       0., 1., 1., 1., 0., 0., 1., 0., 0., 0., 1., 0., 1., 0., 1., 0., 0.,\n",
       "       1., 1., 0., 0.])"
      ]
     },
     "execution_count": 45,
     "metadata": {},
     "output_type": "execute_result"
    }
   ],
   "source": [
    "# converting prediction results into 0 and 1 classes.\n",
    "results1= np.round(results)\n",
    "results1"
   ]
  },
  {
   "attachments": {},
   "cell_type": "markdown",
   "id": "5ed66531",
   "metadata": {},
   "source": [
    "## Check the Model Performance"
   ]
  },
  {
   "cell_type": "code",
   "execution_count": 46,
   "id": "d0d52337",
   "metadata": {},
   "outputs": [],
   "source": [
    "# Import related methods to check model performans.\n",
    "from sklearn.metrics import confusion_matrix, classification_report"
   ]
  },
  {
   "cell_type": "code",
   "execution_count": 47,
   "id": "58657684",
   "metadata": {},
   "outputs": [
    {
     "name": "stdout",
     "output_type": "stream",
     "text": [
      "[[36 11]\n",
      " [ 8 17]]\n",
      "**************************************************\n",
      "              precision    recall  f1-score   support\n",
      "\n",
      "           0       0.82      0.77      0.79        47\n",
      "           1       0.61      0.68      0.64        25\n",
      "\n",
      "    accuracy                           0.74        72\n",
      "   macro avg       0.71      0.72      0.72        72\n",
      "weighted avg       0.74      0.74      0.74        72\n",
      "\n"
     ]
    }
   ],
   "source": [
    "# model evaluation metrics for test data\n",
    "\n",
    "print(confusion_matrix(y_test, results1))\n",
    "print(\"*\"*50)\n",
    "print(classification_report(y_test, results1))"
   ]
  },
  {
   "attachments": {},
   "cell_type": "markdown",
   "id": "b4868294",
   "metadata": {},
   "source": [
    "### with treshold"
   ]
  },
  {
   "cell_type": "code",
   "execution_count": 48,
   "id": "dfe61e2b",
   "metadata": {},
   "outputs": [
    {
     "data": {
      "text/plain": [
       "array([0, 1, 0, 0, 0, 0, 0, 1, 1, 0, 1, 1, 0, 0, 1, 0, 0, 0, 1, 1, 1, 0,\n",
       "       0, 1, 0, 1, 0, 0, 1, 0, 1, 1, 1, 1, 1, 0, 0, 0, 0, 1, 1, 1, 0, 0,\n",
       "       0, 1, 1, 0, 1, 0, 1, 0, 1, 1, 1, 0, 0, 1, 0, 0, 0, 1, 0, 1, 0, 1,\n",
       "       0, 1, 1, 1, 0, 1], dtype=int32)"
      ]
     },
     "execution_count": 48,
     "metadata": {},
     "output_type": "execute_result"
    }
   ],
   "source": [
    "# converting prediction results into 0 and 1 classes using different treshold values.\n",
    "treshold= 0.4\n",
    "results2= (results > treshold).astype(\"int32\")\n",
    "results2"
   ]
  },
  {
   "cell_type": "code",
   "execution_count": 49,
   "id": "252b4c0f",
   "metadata": {},
   "outputs": [
    {
     "name": "stdout",
     "output_type": "stream",
     "text": [
      "[[31 16]\n",
      " [ 6 19]]\n",
      "**************************************************\n",
      "              precision    recall  f1-score   support\n",
      "\n",
      "           0       0.84      0.66      0.74        47\n",
      "           1       0.54      0.76      0.63        25\n",
      "\n",
      "    accuracy                           0.69        72\n",
      "   macro avg       0.69      0.71      0.69        72\n",
      "weighted avg       0.74      0.69      0.70        72\n",
      "\n"
     ]
    }
   ],
   "source": [
    "# model evaluation metrics for test data with different tresholds\n",
    "\n",
    "print(confusion_matrix(y_test, results2))\n",
    "print(\"*\"*50)\n",
    "print(classification_report(y_test, results2))"
   ]
  },
  {
   "cell_type": "code",
   "execution_count": null,
   "id": "02adcee3",
   "metadata": {},
   "outputs": [],
   "source": []
  }
 ],
 "metadata": {
  "kernelspec": {
   "display_name": "conda_python3",
   "language": "python",
   "name": "conda_python3"
  },
  "language_info": {
   "codemirror_mode": {
    "name": "ipython",
    "version": 3
   },
   "file_extension": ".py",
   "mimetype": "text/x-python",
   "name": "python",
   "nbconvert_exporter": "python",
   "pygments_lexer": "ipython3",
   "version": "3.10.8"
  }
 },
 "nbformat": 4,
 "nbformat_minor": 5
}
